{
 "cells": [
  {
   "cell_type": "code",
   "execution_count": 117,
   "metadata": {},
   "outputs": [],
   "source": [
    "import markdown2\n",
    "from os import listdir\n",
    "import os\n",
    "from os.path import isfile, join\n",
    "from __future__ import print_function\n",
    "import re"
   ]
  },
  {
   "cell_type": "code",
   "execution_count": 118,
   "metadata": {},
   "outputs": [],
   "source": [
    "mypath = 'Explore_Markdown'\n",
    "onlyfiles = [f for f in listdir(mypath) if isfile(join(mypath, f))]"
   ]
  },
  {
   "cell_type": "code",
   "execution_count": 119,
   "metadata": {},
   "outputs": [],
   "source": [
    "# onlyfiles"
   ]
  },
  {
   "cell_type": "code",
   "execution_count": 120,
   "metadata": {},
   "outputs": [],
   "source": [
    "for fi in onlyfiles:\n",
    "    with open(mypath+\"/\"+fi, 'r') as f:\n",
    "        data = f.read()\n",
    "    web_text = markdown2.markdown(data) \n",
    "    with open(\"Explore_HTML/\"+fi.replace(\"md\",\"html\"), 'w') as f:\n",
    "        f.write(web_text.encode(\"utf-8\"))\n"
   ]
  },
  {
   "cell_type": "code",
   "execution_count": null,
   "metadata": {},
   "outputs": [],
   "source": []
  },
  {
   "cell_type": "code",
   "execution_count": null,
   "metadata": {},
   "outputs": [],
   "source": []
  },
  {
   "cell_type": "code",
   "execution_count": 121,
   "metadata": {},
   "outputs": [],
   "source": [
    "mypath = 'Species_Markdown'\n",
    "onlyfiles = [f for f in listdir(mypath) if isfile(join(mypath, f))]"
   ]
  },
  {
   "cell_type": "code",
   "execution_count": 122,
   "metadata": {},
   "outputs": [
    {
     "name": "stdout",
     "output_type": "stream",
     "text": [
      "\u001b[34mExcel Files with organizing data\u001b[m\u001b[m create_explore.ipynb\r\n",
      "\u001b[34mExplore\u001b[m\u001b[m                          create_master_spreadsheet.ipynb\r\n",
      "\u001b[34mExplore_HTML\u001b[m\u001b[m                     explore_index.php\r\n",
      "\u001b[34mExplore_Markdown\u001b[m\u001b[m                 explore_lookup.php\r\n",
      "\u001b[34mSpecies files (243)\u001b[m\u001b[m              lookup_php.php\r\n",
      "\u001b[34mSpecies_HTML\u001b[m\u001b[m                     master_list.csv\r\n",
      "\u001b[34mSpecies_Image_HTML\u001b[m\u001b[m               master_list.xlsx\r\n",
      "\u001b[34mSpecies_Markdown\u001b[m\u001b[m                 master_list_all.xlsx\r\n",
      "adjust_image_sizes.ipynb         recording_lookup.php\r\n",
      "chapter_lookup.html              \u001b[34mscratch\u001b[m\u001b[m\r\n",
      "chapter_lookup.php               species_lookup.php\r\n",
      "convert_markdown_to_html.ipynb\r\n"
     ]
    }
   ],
   "source": [
    "!ls\n"
   ]
  },
  {
   "cell_type": "code",
   "execution_count": null,
   "metadata": {},
   "outputs": [],
   "source": []
  },
  {
   "cell_type": "code",
   "execution_count": 123,
   "metadata": {},
   "outputs": [],
   "source": [
    "mp3path = '../songs'\n",
    "mp3s = [f for f in listdir(mp3path) if isfile(join(mp3path, f))]"
   ]
  },
  {
   "cell_type": "code",
   "execution_count": 124,
   "metadata": {},
   "outputs": [
    {
     "name": "stdout",
     "output_type": "stream",
     "text": [
      ".DS_Store\n"
     ]
    }
   ],
   "source": [
    "mp3_lookup = {}\n",
    "for m in mp3s:\n",
    "    try:\n",
    "        number = int(m[:3])\n",
    "        mp3_lookup[number]=m\n",
    "    except:\n",
    "        print(m)"
   ]
  },
  {
   "cell_type": "code",
   "execution_count": 125,
   "metadata": {},
   "outputs": [],
   "source": [
    "# mp3_lookup"
   ]
  },
  {
   "cell_type": "code",
   "execution_count": 126,
   "metadata": {},
   "outputs": [],
   "source": [
    "player_text = '''<div id=\"audio\">\n",
    "    <audio controls  > \n",
    "        <source src=\"songs/{}\" type=\"audio/mpeg\">\n",
    "    Your browser does not support the audio element.\n",
    "    </audio>\n",
    "</div>'''"
   ]
  },
  {
   "cell_type": "code",
   "execution_count": null,
   "metadata": {},
   "outputs": [],
   "source": []
  },
  {
   "cell_type": "code",
   "execution_count": 127,
   "metadata": {},
   "outputs": [
    {
     "name": "stdout",
     "output_type": "stream",
     "text": [
      "Example  Beginning time in recording  Content (female loud and near, male more distant)\n",
      "1  0:00  6 male songs, 1 female song\n",
      "2  0:44  4 male songs, 1 female song\n",
      "3  1:13  6 male songs, 1 female song\n",
      "4  2:05  7 male songs (some partial), 2 female songs\n",
      "5  3:02  1 male song (distant), 1 female song\n",
      "6  3:13  7 male songs, 2 female songs\n",
      "7  3:59  1 female song with no audible male\n"
     ]
    }
   ],
   "source": [
    "cardinal_table1 = '''Example   Beginning time in recording   Content (female loud and near, male more distant)\n",
    "  1         0:00                          6 male songs, 1 female song\n",
    "  2         0:44                          4 male songs, 1 female song\n",
    "  3         1:13                          6 male songs, 1 female song\n",
    "  4         2:05                          7 male songs (some partial), 2 female songs\n",
    "  5         3:02                          1 male song (distant), 1 female song\n",
    "  6         3:13                          7 male songs, 2 female songs\n",
    "  7         3:59                          1 female song with no audible male'''.replace(\"   \",'  ')\n",
    "cardinal_table1= cardinal_table1.replace(\"   \",'  ')\n",
    "cardinal_table1= cardinal_table1.replace(\"   \",'  ')\n",
    "cardinal_table1= cardinal_table1.replace(\"   \",'  ')\n",
    "cardinal_table1= cardinal_table1.replace(\"   \",'  ')\n",
    "cardinal_table1= cardinal_table1.replace(\"   \",'  ')\n",
    "cardinal_table1= cardinal_table1.replace(\"   \",'  ')\n",
    "cardinal_table1= cardinal_table1.replace(\"   \",'  ')\n",
    "cardinal_table1= cardinal_table1.replace(\"   \",'  ')\n",
    "cardinal_table1= cardinal_table1.replace(\"\\n  \",'\\n')\n",
    "print(cardinal_table1)"
   ]
  },
  {
   "cell_type": "code",
   "execution_count": 128,
   "metadata": {},
   "outputs": [],
   "source": [
    "cardinal_table2 = '''Example   Beginning time in recording   Content (female loud and near, male more distant)\n",
    "  1         0:00                          6 male songs, 1 female song\n",
    "  2         0:44                          4 male songs, 1 female song\n",
    "  3         1:13                          6 male songs, 1 female song\n",
    "  4         2:05                          7 male songs (some partial), 2 female songs\n",
    "  5         3:02                          1 male song (distant), 1 female song\n",
    "  6         3:13                          7 male songs, 2 female songs\n",
    "  7         3:59                          1 female song with no audible male'''.replace(\"   \",'  ')"
   ]
  },
  {
   "cell_type": "code",
   "execution_count": 129,
   "metadata": {},
   "outputs": [
    {
     "name": "stdout",
     "output_type": "stream",
     "text": [
      "Example  Beginning time in recording  Content (female loud and near, male more distant)\n",
      "1  0:00  6 male songs, 1 female song\n",
      "2  0:44  4 male songs, 1 female song\n",
      "3  1:13  6 male songs, 1 female song\n",
      "4  2:05  7 male songs (some partial), 2 female songs\n",
      "5  3:02  1 male song (distant), 1 female song\n",
      "6  3:13  7 male songs, 2 female songs\n",
      "7  3:59  1 female song with no audible male\n"
     ]
    }
   ],
   "source": [
    "cardinal_table2 = cardinal_table2.replace(\"   \",'  ')\n",
    "cardinal_table2 = cardinal_table2.replace(\"   \",'  ')\n",
    "cardinal_table2 = cardinal_table2.replace(\"   \",'  ')\n",
    "cardinal_table2 = cardinal_table2.replace(\"   \",'  ')\n",
    "cardinal_table2 = cardinal_table2.replace(\"   \",'  ')\n",
    "cardinal_table2 = cardinal_table2.replace(\"   \",'  ')\n",
    "cardinal_table2 = cardinal_table2.replace(\"   \",'  ')\n",
    "cardinal_table2 = cardinal_table2.replace(\"   \",'  ')\n",
    "cardinal_table2 = cardinal_table2.replace(\"\\n  \",'\\n')\n",
    "print(cardinal_table2)"
   ]
  },
  {
   "cell_type": "code",
   "execution_count": 130,
   "metadata": {},
   "outputs": [],
   "source": [
    "def make_table(table_text):\n",
    "    text = '''\n",
    "    <table>\n",
    "'''\n",
    "    for row in table_text.split(\"\\n\"):\n",
    "        text += '''        <tr>\n",
    "'''\n",
    "        for item in row.split(\"  \"):\n",
    "            text+='''            <td>{}</td>\n",
    "'''.format(item)\n",
    "        text += '''        </tr>\n",
    "'''\n",
    "    text += '''    </table>'''\n",
    "    return text"
   ]
  },
  {
   "cell_type": "code",
   "execution_count": 131,
   "metadata": {},
   "outputs": [],
   "source": [
    "cardinal_table1 = (make_table(cardinal_table1))\n",
    "cardinal_table2 = (make_table(cardinal_table2))"
   ]
  },
  {
   "cell_type": "code",
   "execution_count": 134,
   "metadata": {
    "scrolled": false
   },
   "outputs": [],
   "source": [
    "def upper_repl(match):\n",
    "     return '<small style=\"font-size: 75%\">' + match.group(1).upper() + '</small>'\n",
    "\n",
    "\n",
    "for fi in onlyfiles:\n",
    "    with open(mypath+\"/\"+fi, 'r') as f:\n",
    "        data = f.read()\n",
    "    web_text = markdown2.markdown(data)\n",
    "    lines = web_text.split(\"\\n\")\n",
    "    new_lines = []\n",
    "    for line in lines:\n",
    "        if line[:len(\"<p>Play-\")]==\"<p>Play-\":\n",
    "            number = line.split(\"-\")[1].split(\"<\")[0]\n",
    "            number = int(number)\n",
    "            line = player_text.format(mp3_lookup[number])\n",
    "            \n",
    "        new_lines.append(line)\n",
    "    new_webtext = \"\\n\".join(new_lines)\n",
    "    new_webtext = re.sub(r'\\[(.*)\\]\\{\\.smallcaps\\}', upper_repl, new_webtext)\n",
    "    new_webtext = new_webtext.replace('CARDINALTABLE1', cardinal_table1)\n",
    "    new_webtext = new_webtext.replace('CARDINALTABLE2', cardinal_table2)\n",
    "    new_webtext = new_webtext.replace('--','&mdash;')\n",
    "    with open(\"Species_HTML/\"+fi.replace(\"md\",\"html\"), 'w') as f:\n",
    "        f.write(new_webtext.encode(\"utf-8\"))\n"
   ]
  },
  {
   "cell_type": "code",
   "execution_count": 133,
   "metadata": {},
   "outputs": [],
   "source": [
    "# print(carindal_table1)"
   ]
  },
  {
   "cell_type": "code",
   "execution_count": null,
   "metadata": {},
   "outputs": [],
   "source": []
  },
  {
   "cell_type": "code",
   "execution_count": null,
   "metadata": {},
   "outputs": [],
   "source": []
  },
  {
   "cell_type": "code",
   "execution_count": null,
   "metadata": {},
   "outputs": [],
   "source": []
  },
  {
   "cell_type": "code",
   "execution_count": null,
   "metadata": {},
   "outputs": [],
   "source": []
  }
 ],
 "metadata": {
  "kernelspec": {
   "display_name": "Python 2",
   "language": "python",
   "name": "python2"
  },
  "language_info": {
   "codemirror_mode": {
    "name": "ipython",
    "version": 2
   },
   "file_extension": ".py",
   "mimetype": "text/x-python",
   "name": "python",
   "nbconvert_exporter": "python",
   "pygments_lexer": "ipython2",
   "version": "2.7.16"
  }
 },
 "nbformat": 4,
 "nbformat_minor": 2
}
