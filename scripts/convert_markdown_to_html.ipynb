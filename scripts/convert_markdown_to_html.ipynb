{
 "cells": [
  {
   "cell_type": "code",
   "execution_count": 32,
   "metadata": {},
   "outputs": [],
   "source": [
    "import markdown2\n",
    "from os import listdir\n",
    "import os\n",
    "from os.path import isfile, join\n",
    "from __future__ import print_function"
   ]
  },
  {
   "cell_type": "code",
   "execution_count": 38,
   "metadata": {},
   "outputs": [],
   "source": [
    "mypath = 'Species_Markdown'\n",
    "onlyfiles = [f for f in listdir(mypath) if isfile(join(mypath, f))]"
   ]
  },
  {
   "cell_type": "code",
   "execution_count": 22,
   "metadata": {},
   "outputs": [
    {
     "name": "stdout",
     "output_type": "stream",
     "text": [
      "\u001b[34mExcel Files with organizing data\u001b[m\u001b[m \u001b[34mSpecies_Markdown\u001b[m\u001b[m\r\n",
      "\u001b[34mExplore\u001b[m\u001b[m                          adjust_image_sizes.ipynb\r\n",
      "\u001b[34mExplore_HTML\u001b[m\u001b[m                     convert_markdown_to_html.ipynb\r\n",
      "\u001b[34mExplore_Markdown\u001b[m\u001b[m                 create_master_spreadsheet.ipynb\r\n",
      "\u001b[34mSpecies files (243)\u001b[m\u001b[m              \u001b[34mscratch\u001b[m\u001b[m\r\n",
      "\u001b[34mSpecies_HTML\u001b[m\u001b[m\r\n"
     ]
    }
   ],
   "source": [
    "!ls\n"
   ]
  },
  {
   "cell_type": "code",
   "execution_count": null,
   "metadata": {},
   "outputs": [],
   "source": []
  },
  {
   "cell_type": "code",
   "execution_count": 28,
   "metadata": {},
   "outputs": [],
   "source": [
    "mp3path = '../songs'\n",
    "mp3s = [f for f in listdir(mp3path) if isfile(join(mp3path, f))]"
   ]
  },
  {
   "cell_type": "code",
   "execution_count": 33,
   "metadata": {},
   "outputs": [
    {
     "name": "stdout",
     "output_type": "stream",
     "text": [
      ".DS_Store\n"
     ]
    }
   ],
   "source": [
    "mp3_lookup = {}\n",
    "for m in mp3s:\n",
    "    try:\n",
    "        number = int(m[:3])\n",
    "        mp3_lookup[number]=m\n",
    "    except:\n",
    "        print(m)"
   ]
  },
  {
   "cell_type": "code",
   "execution_count": 27,
   "metadata": {},
   "outputs": [],
   "source": [
    "# mp3_lookup"
   ]
  },
  {
   "cell_type": "code",
   "execution_count": 48,
   "metadata": {},
   "outputs": [],
   "source": [
    "player_text = '''<div id=\"audio\">\n",
    "    <audio controls  > \n",
    "        <source src=\"songs/{}\" type=\"audio/mpeg\">\n",
    "    Your browser does not support the audio element.\n",
    "    </audio>\n",
    "</div>'''"
   ]
  },
  {
   "cell_type": "code",
   "execution_count": 49,
   "metadata": {
    "scrolled": false
   },
   "outputs": [],
   "source": [
    "for fi in onlyfiles:\n",
    "    with open(mypath+\"/\"+fi, 'r') as f:\n",
    "        data = f.read()\n",
    "    web_text = markdown2.markdown(data)\n",
    "    lines = web_text.split(\"\\n\")\n",
    "    new_lines = []\n",
    "    for line in lines:\n",
    "        if line[:len(\"<p>Play-\")]==\"<p>Play-\":\n",
    "            number = line.split(\"-\")[1].split(\"<\")[0]\n",
    "            number = int(number)\n",
    "            line = player_text.format(mp3_lookup[number])\n",
    "            \n",
    "        new_lines.append(line)\n",
    "    new_webtext = \"\\n\".join(new_lines)\n",
    "    with open(\"Species_HTML/\"+fi.replace(\"md\",\"html\"), 'w') as f:\n",
    "        f.write(new_webtext.encode(\"utf-8\"))\n"
   ]
  },
  {
   "cell_type": "code",
   "execution_count": 45,
   "metadata": {},
   "outputs": [
    {
     "data": {
      "text/plain": [
       "u'<p>How Australian! Neither a fairy nor a wren, this bird is a mighty finelooker, and a fine singer as well. Its rapid, high-pitched songs arebetter appreciated at slower speeds (but you\\'re on your own there).They have a fascinating breeding biology: An adult pair, with the helpof their offspring from previous nestings, raise the young in a givennest.</p>\\n\\n<p>\\u266b720_Red-backed Fairy-wren_071021_T87. Complete with laughingkookaburra in the opening seconds. After some listening, and lookingin Raven Lite, I wonder if any two songs from this male are alike.October 21, 2007. Lake Eachem, Queensland. (5:22)</p>\\n\\n<audio controls  > \\n    <source src=\"songs/720_Red-backed_Fairy-wren.mp3\" type=\"audio/mpeg\">\\n    Your browser does not support the audio element.\\n</audio>\\n'"
      ]
     },
     "execution_count": 45,
     "metadata": {},
     "output_type": "execute_result"
    }
   ],
   "source": [
    "new_webtext"
   ]
  },
  {
   "cell_type": "code",
   "execution_count": 41,
   "metadata": {},
   "outputs": [
    {
     "data": {
      "text/plain": [
       "'10_RbFW.md'"
      ]
     },
     "execution_count": 41,
     "metadata": {},
     "output_type": "execute_result"
    }
   ],
   "source": [
    "fi"
   ]
  },
  {
   "cell_type": "code",
   "execution_count": 17,
   "metadata": {},
   "outputs": [
    {
     "data": {
      "text/plain": [
       "<_sre.SRE_Match at 0x110920d98>"
      ]
     },
     "execution_count": 17,
     "metadata": {},
     "output_type": "execute_result"
    }
   ],
   "source": [
    "re.search(\"Play-\", web_text)"
   ]
  },
  {
   "cell_type": "code",
   "execution_count": null,
   "metadata": {},
   "outputs": [],
   "source": []
  }
 ],
 "metadata": {
  "kernelspec": {
   "display_name": "Python 2",
   "language": "python",
   "name": "python2"
  },
  "language_info": {
   "codemirror_mode": {
    "name": "ipython",
    "version": 2
   },
   "file_extension": ".py",
   "mimetype": "text/x-python",
   "name": "python",
   "nbconvert_exporter": "python",
   "pygments_lexer": "ipython2",
   "version": "2.7.16"
  }
 },
 "nbformat": 4,
 "nbformat_minor": 2
}
