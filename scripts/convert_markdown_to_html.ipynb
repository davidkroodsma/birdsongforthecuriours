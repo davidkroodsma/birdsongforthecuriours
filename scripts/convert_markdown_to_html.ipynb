{
 "cells": [
  {
   "cell_type": "code",
   "execution_count": 17,
   "metadata": {},
   "outputs": [],
   "source": [
    "import markdown2\n",
    "from os import listdir\n",
    "import os\n",
    "from os.path import isfile, join\n",
    "from __future__ import print_function\n",
    "import re\n",
    "\n",
    "def upper_repl(match):\n",
    "     return '<small style=\"font-size: 75%\">' + match.group(1).upper() + '</small>'\n"
   ]
  },
  {
   "cell_type": "code",
   "execution_count": 18,
   "metadata": {},
   "outputs": [
    {
     "name": "stdout",
     "output_type": "stream",
     "text": [
      ".DS_Store\n"
     ]
    }
   ],
   "source": [
    "# MP3 Text\n",
    "\n",
    "mp3path = '../songs'\n",
    "mp3s = [f for f in listdir(mp3path) if isfile(join(mp3path, f))]\n",
    "mp3_lookup = {}\n",
    "for m in mp3s:\n",
    "    try:\n",
    "        number = int(m[:3])\n",
    "        mp3_lookup[number]=m\n",
    "    except:\n",
    "        print(m)\n",
    "        \n",
    "# player_text = u'''♫{}<div id=\"audio\">\n",
    "#     <audio controls  > \n",
    "#         <source src=\"songs/{}\" type=\"audio/mpeg\">\n",
    "#     Your browser does not support the audio element.\n",
    "#     </audio>\n",
    "# </div>'''\n",
    "\n",
    "player_text = u'''<div class='audio-element' style=\"margin-top: -1em;height:4em\">\n",
    "<audio src=\"songs/{song}\" type=\"audio/mpeg\" ></audio>\n",
    "<div class=\"track-details\">  <a href='songs/{song}' download>download</a></div>\n",
    "</div>'''"
   ]
  },
  {
   "cell_type": "code",
   "execution_count": 19,
   "metadata": {},
   "outputs": [],
   "source": [
    "# mp3s"
   ]
  },
  {
   "cell_type": "code",
   "execution_count": 20,
   "metadata": {},
   "outputs": [],
   "source": [
    "mypath = 'Explore_Markdown'\n",
    "onlyfiles = [f for f in listdir(mypath) if isfile(join(mypath, f))]"
   ]
  },
  {
   "cell_type": "code",
   "execution_count": 21,
   "metadata": {},
   "outputs": [],
   "source": [
    "def make_table(table_text):\n",
    "    text = '''\n",
    "    <table>\n",
    "'''\n",
    "    for row in table_text.split(\"\\n\"):\n",
    "        text += '''        <tr>\n",
    "'''\n",
    "        for item in row.split(\"  \"):\n",
    "            text+='''            <td>{}</td>\n",
    "'''.format(item)\n",
    "        text += '''        </tr>\n",
    "'''\n",
    "    text += '''    </table>'''\n",
    "    return text"
   ]
  },
  {
   "cell_type": "code",
   "execution_count": 22,
   "metadata": {},
   "outputs": [],
   "source": [
    "# onlyfiles"
   ]
  },
  {
   "cell_type": "code",
   "execution_count": 23,
   "metadata": {},
   "outputs": [],
   "source": [
    "# ♫\n",
    "explore_50_table = '''+-----------+-----------+-----------+-----------+-----------+-----------+\n",
    "| Recording | Type of recording  | Begin time am     | Sunrise,[(a.m.)]{.smallcaps}   | Date, (2018)      | Duration, Min:sec  |\n",
    "| 464      | stereo    | 6:07      | 6:34      | April 1   | 3:32      |\n",
    "+-----------+-----------+-----------+-----------+-----------+-----------+\n",
    "| 465      | monaural  | 5:57      | 6:27      | April 5   | 8:00      |\n",
    "+-----------+-----------+-----------+-----------+-----------+-----------+\n",
    "| 466      | monaural  | 5:54      | 6:27      | April 6   | 3:49      |\n",
    "+-----------+-----------+-----------+-----------+-----------+-----------+\n",
    "| 467      | stereo    | 5:45      | 6:15      | April 12  | 17:05     |\n",
    "+-----------+-----------+-----------+-----------+-----------+-----------+\n",
    "| 468      | monaural  | 5:38      | 6:12      | April 14  | 8:03      |\n",
    "+-----------+-----------+-----------+-----------+-----------+-----------+\n",
    "| 469      | monaural  | 5:42      | 6:10      | April 15  | 7:20      |\n",
    "+-----------+-----------+-----------+-----------+-----------+-----------+\n",
    "| 470      | monaural  | 5:38      | 6:05      | April 18  | 4:35      |\n",
    "+-----------+-----------+-----------+-----------+-----------+-----------+\n",
    "| 471      | monaural  | 5:24      | 5:53      | April 26  | 18:38     |\n",
    "+-----------+-----------+-----------+-----------+-----------+-----------+\n",
    "| 472      | monaural  | 5:08      | 5:42      | May 4     | 4:21      |\n",
    "+-----------+-----------+-----------+-----------+-----------+-----------+\n",
    "| 473      | monaural  | 5:01      | 5:41      | May 5     | 6:06      |\n",
    "+-----------+-----------+-----------+-----------+-----------+-----------+\n",
    "| 474      | monaural  | 5:04      | 5:40      | May 6     | 6:23      |\n",
    "+-----------+-----------+-----------+-----------+-----------+-----------+\n",
    "| 475      | monaural  | 4:56      | 5:38      | May 7     | 11:00     |\n",
    "+-----------+-----------+-----------+-----------+-----------+-----------+\n",
    "| 476      | monaural  | 4:57      | 5:37      | May 8     | 4:38      |\n",
    "+-----------+-----------+-----------+-----------+-----------+-----------+'''.split(\"\\n\")\n",
    "\n",
    "text = []\n",
    "for e in explore_50_table:\n",
    "    if e[0]==\"+\":\n",
    "        continue\n",
    "    e = e[2:-2].replace(\"  \",\" \").replace(\"  \",\" \").replace(\"  \",\" \").replace(\"  \",\" \").replace(\"  \",\" \").replace(\"  \",\" \")\n",
    "    e = e.split(\" | \")\n",
    "#     print(e)\n",
    "    t = \"  \".join(e)\n",
    "    text.append(t)\n",
    "text = \"\\n\".join(text)\n",
    "table_50 = make_table(text)"
   ]
  },
  {
   "cell_type": "code",
   "execution_count": 24,
   "metadata": {},
   "outputs": [
    {
     "name": "stdout",
     "output_type": "stream",
     "text": [
      "Recording  Type of recording  Begin time am  Sunrise,[(a.m.)]{.smallcaps}  Date, (2018)  Duration, Min:sec \n",
      "464  stereo  6:07  6:34  April 1  3:32 \n",
      "465  monaural  5:57  6:27  April 5  8:00 \n",
      "466  monaural  5:54  6:27  April 6  3:49 \n",
      "467  stereo  5:45  6:15  April 12  17:05 \n",
      "468  monaural  5:38  6:12  April 14  8:03 \n",
      "469  monaural  5:42  6:10  April 15  7:20 \n",
      "470  monaural  5:38  6:05  April 18  4:35 \n",
      "471  monaural  5:24  5:53  April 26  18:38 \n",
      "472  monaural  5:08  5:42  May 4  4:21 \n",
      "473  monaural  5:01  5:41  May 5  6:06 \n",
      "474  monaural  5:04  5:40  May 6  6:23 \n",
      "475  monaural  4:56  5:38  May 7  11:00 \n",
      "476  monaural  4:57  5:37  May 8  4:38 \n"
     ]
    }
   ],
   "source": [
    "print(text)"
   ]
  },
  {
   "cell_type": "code",
   "execution_count": 25,
   "metadata": {},
   "outputs": [],
   "source": [
    "for fi in onlyfiles:\n",
    "    with open(mypath+\"/\"+fi, 'r') as f:\n",
    "        data = f.read()\n",
    "    web_text = markdown2.markdown(data) \n",
    "    lines = web_text.split(\"\\n\")\n",
    "    new_lines = []\n",
    "    for line in lines:\n",
    "        if line[:len(\"<p>Play-\")]==\"<p>Play-\":\n",
    "            number = line.split(\"-\")[1].split(\"<\")[0]\n",
    "            number = int(number)\n",
    "            line = player_text.format(song=mp3_lookup[number])\n",
    "            \n",
    "        new_lines.append(line)\n",
    "        new_webtext = \"\\n\".join(new_lines)\n",
    "        \n",
    "        \n",
    "        new_webtext = new_webtext.replace('TABLE50', table_50)\n",
    "        new_webtext = re.sub(r'\\[(.*)\\]\\{\\.smallcaps\\}', upper_repl, new_webtext)\n",
    "        new_webtext = new_webtext.replace('--','&mdash;') # fix m dash\n",
    "        \n",
    "    with open(\"Explore_HTML/\"+fi.replace(\"md\",\"html\"), 'w') as f:\n",
    "        f.write(new_webtext.encode(\"utf-8\"))\n"
   ]
  },
  {
   "cell_type": "code",
   "execution_count": null,
   "metadata": {},
   "outputs": [],
   "source": []
  },
  {
   "cell_type": "code",
   "execution_count": null,
   "metadata": {},
   "outputs": [],
   "source": []
  },
  {
   "cell_type": "code",
   "execution_count": 26,
   "metadata": {},
   "outputs": [],
   "source": [
    "mypath = 'Species_Markdown'\n",
    "onlyfiles = [f for f in listdir(mypath) if isfile(join(mypath, f))]"
   ]
  },
  {
   "cell_type": "code",
   "execution_count": null,
   "metadata": {},
   "outputs": [],
   "source": []
  },
  {
   "cell_type": "code",
   "execution_count": 27,
   "metadata": {},
   "outputs": [],
   "source": [
    "# mp3_lookup"
   ]
  },
  {
   "cell_type": "code",
   "execution_count": null,
   "metadata": {},
   "outputs": [],
   "source": []
  },
  {
   "cell_type": "code",
   "execution_count": 28,
   "metadata": {},
   "outputs": [
    {
     "name": "stdout",
     "output_type": "stream",
     "text": [
      "Example  Beginning time in recording  Content (female loud and near, male more distant)\n",
      "1  0:00  6 male songs, 1 female song\n",
      "2  0:44  4 male songs, 1 female song\n",
      "3  1:13  6 male songs, 1 female song\n",
      "4  2:05  7 male songs (some partial), 2 female songs\n",
      "5  3:02  1 male song (distant), 1 female song\n",
      "6  3:13  7 male songs, 2 female songs\n",
      "7  3:59  1 female song with no audible male\n"
     ]
    }
   ],
   "source": [
    "cardinal_table1 = '''Example   Beginning time in recording   Content (female loud and near, male more distant)\n",
    "  1         0:00                          6 male songs, 1 female song\n",
    "  2         0:44                          4 male songs, 1 female song\n",
    "  3         1:13                          6 male songs, 1 female song\n",
    "  4         2:05                          7 male songs (some partial), 2 female songs\n",
    "  5         3:02                          1 male song (distant), 1 female song\n",
    "  6         3:13                          7 male songs, 2 female songs\n",
    "  7         3:59                          1 female song with no audible male'''.replace(\"   \",'  ')\n",
    "cardinal_table1= cardinal_table1.replace(\"   \",'  ')\n",
    "cardinal_table1= cardinal_table1.replace(\"   \",'  ')\n",
    "cardinal_table1= cardinal_table1.replace(\"   \",'  ')\n",
    "cardinal_table1= cardinal_table1.replace(\"   \",'  ')\n",
    "cardinal_table1= cardinal_table1.replace(\"   \",'  ')\n",
    "cardinal_table1= cardinal_table1.replace(\"   \",'  ')\n",
    "cardinal_table1= cardinal_table1.replace(\"   \",'  ')\n",
    "cardinal_table1= cardinal_table1.replace(\"   \",'  ')\n",
    "cardinal_table1= cardinal_table1.replace(\"\\n  \",'\\n')\n",
    "print(cardinal_table1)"
   ]
  },
  {
   "cell_type": "code",
   "execution_count": 29,
   "metadata": {},
   "outputs": [],
   "source": [
    "cardinal_table2 = '''Example\tBeginning time in recording\tContent (female loud and near, male more distant)\n",
    "1\t0:00\t2 male songs, 1 female song\n",
    "2\t0:13\t1 male song, 1 female song\n",
    "3\t0:24\t2 male songs, 1 female song\n",
    "4\t0:39\t1 male song, 1 female song. Listen carefully: at 0:45 the female matches the male with a single note, but then she switches to another song type.\n",
    "5\t0:50\t1 partial male song, 1 female song\n",
    "6\t1:00\t1 male song, 1 female song\n",
    "7\t1:11\t2 male songs, 1 female song\n",
    "8\t1:24\t2 male songs, 1 female song\n",
    "9\t1:40\t1 female song\n",
    "10\t1:50\t1 female song'''.replace(\"\\t\",'  ')"
   ]
  },
  {
   "cell_type": "code",
   "execution_count": 30,
   "metadata": {},
   "outputs": [
    {
     "name": "stdout",
     "output_type": "stream",
     "text": [
      "Example  Beginning time in recording  Content (female loud and near, male more distant)\n",
      "1  0:00  2 male songs, 1 female song\n",
      "2  0:13  1 male song, 1 female song\n",
      "3  0:24  2 male songs, 1 female song\n",
      "4  0:39  1 male song, 1 female song. Listen carefully: at 0:45 the female matches the male with a single note, but then she switches to another song type.\n",
      "5  0:50  1 partial male song, 1 female song\n",
      "6  1:00  1 male song, 1 female song\n",
      "7  1:11  2 male songs, 1 female song\n",
      "8  1:24  2 male songs, 1 female song\n",
      "9  1:40  1 female song\n",
      "10  1:50  1 female song\n"
     ]
    }
   ],
   "source": [
    "cardinal_table2 = cardinal_table2.replace(\"\\n  \",'\\n')\n",
    "print(cardinal_table2)"
   ]
  },
  {
   "cell_type": "code",
   "execution_count": 31,
   "metadata": {},
   "outputs": [],
   "source": [
    "cardinal_table1 = (make_table(cardinal_table1))\n",
    "cardinal_table2 = (make_table(cardinal_table2))"
   ]
  },
  {
   "cell_type": "code",
   "execution_count": 32,
   "metadata": {
    "scrolled": false
   },
   "outputs": [],
   "source": [
    "\n",
    "\n",
    "for fi in onlyfiles:\n",
    "    with open(mypath+\"/\"+fi, 'r') as f:\n",
    "        data = f.read()\n",
    "    web_text = markdown2.markdown(data)\n",
    "    lines = web_text.split(\"\\n\")\n",
    "    new_lines = []\n",
    "    for line in lines:\n",
    "        if line[:len(\"<p>Play-\")]==\"<p>Play-\":\n",
    "            number = line.split(\"-\")[1].split(\"<\")[0]\n",
    "            number = int(number)\n",
    "            line = player_text.format(song=mp3_lookup[number])\n",
    "            \n",
    "        new_lines.append(line)\n",
    "    new_webtext = \"\\n\".join(new_lines)\n",
    "    new_webtext = re.sub(r'\\[(.*)\\]\\{\\.smallcaps\\}', upper_repl, new_webtext)\n",
    "    new_webtext = new_webtext.replace('CARDINALTABLE1', cardinal_table1)\n",
    "    new_webtext = new_webtext.replace('CARDINALTABLE2', cardinal_table2)\n",
    "    new_webtext = new_webtext.replace('--','&mdash;') # fix m dash\n",
    "    with open(\"Species_HTML/\"+fi.replace(\"md\",\"html\"), 'w') as f:\n",
    "        f.write(new_webtext.encode(\"utf-8\"))\n"
   ]
  },
  {
   "cell_type": "code",
   "execution_count": 33,
   "metadata": {},
   "outputs": [],
   "source": [
    "# print(carindal_table1)"
   ]
  },
  {
   "cell_type": "code",
   "execution_count": null,
   "metadata": {},
   "outputs": [],
   "source": []
  },
  {
   "cell_type": "code",
   "execution_count": null,
   "metadata": {},
   "outputs": [],
   "source": []
  },
  {
   "cell_type": "code",
   "execution_count": null,
   "metadata": {},
   "outputs": [],
   "source": []
  },
  {
   "cell_type": "code",
   "execution_count": null,
   "metadata": {},
   "outputs": [],
   "source": []
  }
 ],
 "metadata": {
  "kernelspec": {
   "display_name": "Python 2",
   "language": "python",
   "name": "python2"
  },
  "language_info": {
   "codemirror_mode": {
    "name": "ipython",
    "version": 2
   },
   "file_extension": ".py",
   "mimetype": "text/x-python",
   "name": "python",
   "nbconvert_exporter": "python",
   "pygments_lexer": "ipython2",
   "version": "2.7.16"
  }
 },
 "nbformat": 4,
 "nbformat_minor": 2
}
