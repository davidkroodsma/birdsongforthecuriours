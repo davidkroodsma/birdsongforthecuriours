{
 "cells": [
  {
   "cell_type": "code",
   "execution_count": 13,
   "metadata": {},
   "outputs": [],
   "source": [
    "import yaml\n",
    "from os.path import isfile, join\n",
    "from os import listdir\n",
    "import os\n"
   ]
  },
  {
   "cell_type": "code",
   "execution_count": 28,
   "metadata": {},
   "outputs": [],
   "source": [
    "with open(\"yaml/bird_songs_homepage.yaml\", 'rU') as f:\n",
    "    l = f.read()\n",
    "    birds = yaml.load(l)"
   ]
  },
  {
   "cell_type": "code",
   "execution_count": 29,
   "metadata": {},
   "outputs": [
    {
     "data": {
      "text/plain": [
       "{'American redstart': {'image': 'AmRe-LW-AMRE(m)_0234.jpg',\n",
       "  'page': 74,\n",
       "  'song': 178},\n",
       " 'American robin': {'image': 'AmRo-MR-AmRobinCalling_1330_Read.jpg',\n",
       "  'page': 132,\n",
       "  'song': 14},\n",
       " 'American wigeon': {'image': 'AmWi-MR-AmWigeonMLanding_4289_Read.jpg',\n",
       "  'page': 14,\n",
       "  'song': 40},\n",
       " \"Anna's hummingbird\": {'image': 'AnHu-BbJ-298a-anhu_AZ-15-11-16_0658.jpg',\n",
       "  'page': 95,\n",
       "  'song': 315},\n",
       " \"Bachman's sparrow\": {'image': 'BaSp-RR-BachmansSparrow.jpg',\n",
       "  'page': 126,\n",
       "  'song': 426},\n",
       " \"Bewick's wren\": {'image': \"BeWr-BS-1-Bewick's-Wren_D4_28996.jpg\",\n",
       "  'page': 184,\n",
       "  'song': 582},\n",
       " 'Brown thrasher': {'image': 'BrTh-WH-Brown_thrasher_WH_MG_1769.jpg',\n",
       "  'page': 35,\n",
       "  'song': 84},\n",
       " 'Canada goose': {'image': 'CaGo-MR-CAGOAggression_8680_Read.jpg',\n",
       "  'page': 7,\n",
       "  'song': 28},\n",
       " \"Cassin's sparrow\": {'image': \"CaSp-WH-20140531_Cassin's_Sparrow_WH__MG_4681.jpg\",\n",
       "  'page': 127,\n",
       "  'song': 427}}"
      ]
     },
     "execution_count": 29,
     "metadata": {},
     "output_type": "execute_result"
    }
   ],
   "source": [
    "birds"
   ]
  },
  {
   "cell_type": "code",
   "execution_count": 30,
   "metadata": {},
   "outputs": [
    {
     "name": "stdout",
     "output_type": "stream",
     "text": [
      ".DS_Store\n"
     ]
    }
   ],
   "source": [
    "carousel = '''<li>\n",
    "<img class=\"tns-lazy-img\" src=\"img/samples/{image_file}\" data-src=\"img/samples/{image_file}\" alt=\"\" />\n",
    "<a href=\"javascript:play_single_sound('{bird_name_id}');\"><i class=\"far fa-play-circle\"></i></a>\n",
    "<a href=\"{bird_link}\"><span>{bird_name}</span></a>\n",
    "<a href=\"{bird_link}\"><i class=\"fas fa-info-circle\"></i></a></li>\n",
    "'''\n",
    "\n",
    "play_div = '''<div id=\"audio\"> \n",
    "\t<audio id=\"{bird_name_id}\" src=\"songs/{song_file}\" autobuffer=\"autobuffer\"></audio>\n",
    "</div>\n",
    "'''\n",
    "\n",
    "\n",
    "\n",
    "mp3path = '../songs'\n",
    "mp3s = [f for f in listdir(mp3path) if isfile(join(mp3path, f))]\n",
    "mp3_lookup = {}\n",
    "for m in mp3s:\n",
    "    try:\n",
    "        number = int(m[:3])\n",
    "        mp3_lookup[number]=m\n",
    "    except:\n",
    "        print(m)\n",
    "\n",
    "carousel_text = \"\"\n",
    "play_divs = \"\"\n",
    "        \n",
    "for b in birds:\n",
    "    bird_link = \"recording.php?page={}\".format(birds[b]['page'])\n",
    "    song_file = \"{}\".format(mp3_lookup[birds[b]['song']])\n",
    "    image_file = birds[b]['image']\n",
    "    bird_name_id = b.replace(\"'\",\"\").replace(\" \",\"\")\n",
    "    bird_name=b\n",
    "    c = carousel.format(image_file=image_file, bird_name_id=bird_name_id,\n",
    "                        bird_link=bird_link, bird_name=bird_name)\n",
    "    carousel_text += c\n",
    "    \n",
    "    p = play_div.format(bird_name_id=bird_name_id, song_file=song_file)\n",
    "    play_divs += p\n",
    "\n",
    "with open(\"../bird_carousel.php\",'w') as f:\n",
    "    f.write(carousel_text)\n",
    "\n",
    "with open(\"../index_audio.php\",\"w\") as f:\n",
    "    f.write(play_divs)"
   ]
  },
  {
   "cell_type": "code",
   "execution_count": null,
   "metadata": {},
   "outputs": [],
   "source": []
  },
  {
   "cell_type": "code",
   "execution_count": 19,
   "metadata": {},
   "outputs": [
    {
     "name": "stdout",
     "output_type": "stream",
     "text": [
      "<div id=\"audio\"> \n",
      "\t<audio id=\"Americanrobin\" src=\"songs/songs/014_American_Robin.mp3\" autobuffer=\"autobuffer\"></audio>\n",
      "</div>\n",
      "<div id=\"audio\"> \n",
      "\t<audio id=\"Brownthrasher\" src=\"songs/songs/084_Brown_Thrasher.mp3\" autobuffer=\"autobuffer\"></audio>\n",
      "</div>\n",
      "<div id=\"audio\"> \n",
      "\t<audio id=\"Americanwigeon\" src=\"songs/songs/040_American_Wigeon.mp3\" autobuffer=\"autobuffer\"></audio>\n",
      "</div>\n",
      "<div id=\"audio\"> \n",
      "\t<audio id=\"Bachmanssparrow\" src=\"songs/songs/426_Bachman's_Sparrow.mp3\" autobuffer=\"autobuffer\"></audio>\n",
      "</div>\n",
      "<div id=\"audio\"> \n",
      "\t<audio id=\"Annashummingbird\" src=\"songs/songs/315_Anna's_Hummingbird.mp3\" autobuffer=\"autobuffer\"></audio>\n",
      "</div>\n",
      "<div id=\"audio\"> \n",
      "\t<audio id=\"Canadagoose\" src=\"songs/songs/028_Canada_Goose.mp3\" autobuffer=\"autobuffer\"></audio>\n",
      "</div>\n",
      "<div id=\"audio\"> \n",
      "\t<audio id=\"Bewickswren\" src=\"songs/songs/582_Bewick's_Wren.mp3\" autobuffer=\"autobuffer\"></audio>\n",
      "</div>\n",
      "<div id=\"audio\"> \n",
      "\t<audio id=\"Americanredstart\" src=\"songs/songs/178_American_Redstart.mp3\" autobuffer=\"autobuffer\"></audio>\n",
      "</div>\n",
      "<div id=\"audio\"> \n",
      "\t<audio id=\"Cassinssparrow\" src=\"songs/songs/427_Cassins's_Sparrow.mp3\" autobuffer=\"autobuffer\"></audio>\n",
      "</div>\n",
      "\n"
     ]
    }
   ],
   "source": [
    "print play_divs"
   ]
  },
  {
   "cell_type": "code",
   "execution_count": null,
   "metadata": {},
   "outputs": [],
   "source": [
    "text = '''\t\t\t\t<li>\n",
    "\t\t\t\t<img class=\"tns-lazy-img\" src=\"img/samples/AmRe-LW-AMRE(m)_0234.jpg\" data-src=\"img/samples/AmRe-LW-AMRE(m)_0234.jpg\" alt=\"\" /><i class=\"far fa-play-circle\"></i><a href=\"#\"><span>American redstart</span></a><i class=\"fas fa-info-circle\"></i></li>\n",
    "\t\t\t\t<li>\n",
    "\t\t\t\t<img class=\"tns-lazy-img\" src=\"img/samples/AmRo-MR-AmRobinCalling_1330_Read.jpg\" data-src=\"img/samples/AmRo-MR-AmRobinCalling_1330_Read.jpg\" alt=\"\" /><i class=\"far fa-play-circle\"></i><a href=\"#\"><span>American robin</span></a><i class=\"fas fa-info-circle\"></i></li>\n",
    "\t\t\t\t<li>\n",
    "\t\t\t\t<img class=\"tns-lazy-img\" src=\"img/samples/AmWi-MR-AmWigeonMLanding_4289_Read.jpg\" data-src=\"img/samples/AmWi-MR-AmWigeonMLanding_4289_Read.jpg\" alt=\"\" /><i class=\"far fa-play-circle\"></i><a href=\"#\"><span>American wigeon</span></a><i class=\"fas fa-info-circle\"></i></li>\n",
    "\t\t\t\t<li>\n",
    "\t\t\t\t<img class=\"tns-lazy-img\" src=\"img/samples/AnHu-BbJ-298a-anhu_AZ-15-11-16_0658.jpg\" data-src=\"img/samples/AnHu-BbJ-298a-anhu_AZ-15-11-16_0658.jpg\" alt=\"\" /><i class=\"far fa-play-circle\"></i><a href=\"#\"><span>Anna's hummingbird</span></a><i class=\"fas fa-info-circle\"></i></li>\n",
    "\t\t\t\t<li>\n",
    "\t\t\t\t<img class=\"tns-lazy-img\" src=\"img/samples/BaSp-RR-BachmansSparrow.jpg\" data-src=\"img/samples/BaSp-RR-BachmansSparrow.jpg\" alt=\"\" /><i class=\"far fa-play-circle\"></i><a href=\"#\"><span>Bachman's sparrow</span></a><i class=\"fas fa-info-circle\"></i></li>\n",
    "\t\t\t\t<li>\n",
    "\t\t\t\t<img class=\"tns-lazy-img\" src=\"img/samples/BaOr-MR-BaltOrioleMSing_9805R_Read.jpg\" data-src=\"img/samples/BaOr-MR-BaltOrioleMSing_9805R_Read.jpg\" alt=\"\" /><i class=\"far fa-play-circle\"></i><a href=\"#\"><span>Bachman's sparrow</span></a><i class=\"fas fa-info-circle\"></i></li>\n",
    "\t\t\t\t<li>\n",
    "\t\t\t\t<img class=\"tns-lazy-img\" src=\"img/samples/BeWr-BS-1-Bewick's-Wren_D4_28996.jpg\" data-src=\"img/samples/BeWr-BS-1-Bewick's-Wren_D4_28996.jpg\" alt=\"\" /><a href=\"javascript:play_single_sound('bewicks');\"><i class=\"far fa-play-circle\"></i></a><a href=\"#\"><span>Bewick's wren</span></a><a href=\"#\"><i class=\"fas fa-info-circle\"></i></a></li>\n",
    "\t\t\t\t<li>\n",
    "\t\t\t\t<img class=\"tns-lazy-img\" src=\"img/samples/BrTh-WH-Brown_thrasher_WH_MG_1769.jpg\" data-src=\"img/samples/BrTh-WH-Brown_thrasher_WH_MG_1769.jpg\" alt=\"\" /><i class=\"far fa-play-circle\"></i><a href=\"#\"><span>Brown thrasher</span></a><i class=\"fas fa-info-circle\"></i></li>\n",
    "\t\t\t\t<li>\n",
    "\t\t\t\t<img class=\"tns-lazy-img\" src=\"img/samples/CaGo-MR-CAGOAggression_8680_Read.jpg\" data-src=\"img/samples/CaGo-MR-CAGOAggression_8680_Read.jpg\" alt=\"\" /><i class=\"far fa-play-circle\"></i><a href=\"#\"><span>Canada goose</span></a><i class=\"fas fa-info-circle\"></i></li>\n",
    "\t\t\t\t<li>\n",
    "\t\t\t\t<img class=\"tns-lazy-img\" src=\"img/samples/CaSp-WH-20140531_Cassin's_Sparrow_WH__MG_4681.jpg\" data-src=\"img/samples/CaSp-WH-20140531_Cassin's_Sparrow_WH__MG_4681.jpg\" alt=\"\" /><i class=\"far fa-play-circle\"></i><a href=\"#\"><span>Cassin's sparrow</span></a><i class=\"fas fa-info-circle\"></i></li>'''"
   ]
  }
 ],
 "metadata": {
  "kernelspec": {
   "display_name": "Python 2",
   "language": "python",
   "name": "python2"
  },
  "language_info": {
   "codemirror_mode": {
    "name": "ipython",
    "version": 2
   },
   "file_extension": ".py",
   "mimetype": "text/x-python",
   "name": "python",
   "nbconvert_exporter": "python",
   "pygments_lexer": "ipython2",
   "version": "2.7.16"
  }
 },
 "nbformat": 4,
 "nbformat_minor": 2
}
