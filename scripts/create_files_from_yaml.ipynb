{
 "cells": [
  {
   "cell_type": "code",
   "execution_count": 171,
   "metadata": {},
   "outputs": [],
   "source": [
    "from __future__ import print_function\n",
    "import pandas as pd\n",
    "import editdistance\n",
    "from os import listdir\n",
    "from os.path import isfile, join\n",
    "import os\n",
    "import numpy as np\n",
    "import math\n",
    "import yaml"
   ]
  },
  {
   "cell_type": "code",
   "execution_count": 172,
   "metadata": {},
   "outputs": [
    {
     "ename": "ScannerError",
     "evalue": "mapping values are not allowed here\n  in \"<string>\", line 1623, column 51:\n     ...  How birds go to roost and awake: Going to roost\n                                         ^",
     "output_type": "error",
     "traceback": [
      "\u001b[0;31m---------------------------------------------------------------------------\u001b[0m",
      "\u001b[0;31mScannerError\u001b[0m                              Traceback (most recent call last)",
      "\u001b[0;32m<ipython-input-172-e0f5ee2b1da8>\u001b[0m in \u001b[0;36m<module>\u001b[0;34m()\u001b[0m\n\u001b[1;32m      1\u001b[0m \u001b[0;32mwith\u001b[0m \u001b[0mopen\u001b[0m\u001b[0;34m(\u001b[0m\u001b[0;34m\"yaml/pages.yaml\"\u001b[0m\u001b[0;34m,\u001b[0m\u001b[0;34m'rU'\u001b[0m\u001b[0;34m)\u001b[0m \u001b[0;32mas\u001b[0m \u001b[0mf\u001b[0m\u001b[0;34m:\u001b[0m\u001b[0;34m\u001b[0m\u001b[0m\n\u001b[0;32m----> 2\u001b[0;31m     \u001b[0mpages\u001b[0m \u001b[0;34m=\u001b[0m \u001b[0myaml\u001b[0m\u001b[0;34m.\u001b[0m\u001b[0mload\u001b[0m\u001b[0;34m(\u001b[0m\u001b[0mf\u001b[0m\u001b[0;34m.\u001b[0m\u001b[0mread\u001b[0m\u001b[0;34m(\u001b[0m\u001b[0;34m)\u001b[0m\u001b[0;34m)\u001b[0m\u001b[0;34m\u001b[0m\u001b[0m\n\u001b[0m",
      "\u001b[0;32m/Users/davidkroodsma/venv/lib/python2.7/site-packages/yaml/__init__.pyc\u001b[0m in \u001b[0;36mload\u001b[0;34m(stream, Loader)\u001b[0m\n\u001b[1;32m     69\u001b[0m     \u001b[0mloader\u001b[0m \u001b[0;34m=\u001b[0m \u001b[0mLoader\u001b[0m\u001b[0;34m(\u001b[0m\u001b[0mstream\u001b[0m\u001b[0;34m)\u001b[0m\u001b[0;34m\u001b[0m\u001b[0m\n\u001b[1;32m     70\u001b[0m     \u001b[0;32mtry\u001b[0m\u001b[0;34m:\u001b[0m\u001b[0;34m\u001b[0m\u001b[0m\n\u001b[0;32m---> 71\u001b[0;31m         \u001b[0;32mreturn\u001b[0m \u001b[0mloader\u001b[0m\u001b[0;34m.\u001b[0m\u001b[0mget_single_data\u001b[0m\u001b[0;34m(\u001b[0m\u001b[0;34m)\u001b[0m\u001b[0;34m\u001b[0m\u001b[0m\n\u001b[0m\u001b[1;32m     72\u001b[0m     \u001b[0;32mfinally\u001b[0m\u001b[0;34m:\u001b[0m\u001b[0;34m\u001b[0m\u001b[0m\n\u001b[1;32m     73\u001b[0m         \u001b[0mloader\u001b[0m\u001b[0;34m.\u001b[0m\u001b[0mdispose\u001b[0m\u001b[0;34m(\u001b[0m\u001b[0;34m)\u001b[0m\u001b[0;34m\u001b[0m\u001b[0m\n",
      "\u001b[0;32m/Users/davidkroodsma/venv/lib/python2.7/site-packages/yaml/constructor.pyc\u001b[0m in \u001b[0;36mget_single_data\u001b[0;34m(self)\u001b[0m\n\u001b[1;32m     35\u001b[0m     \u001b[0;32mdef\u001b[0m \u001b[0mget_single_data\u001b[0m\u001b[0;34m(\u001b[0m\u001b[0mself\u001b[0m\u001b[0;34m)\u001b[0m\u001b[0;34m:\u001b[0m\u001b[0;34m\u001b[0m\u001b[0m\n\u001b[1;32m     36\u001b[0m         \u001b[0;31m# Ensure that the stream contains a single document and construct it.\u001b[0m\u001b[0;34m\u001b[0m\u001b[0;34m\u001b[0m\u001b[0m\n\u001b[0;32m---> 37\u001b[0;31m         \u001b[0mnode\u001b[0m \u001b[0;34m=\u001b[0m \u001b[0mself\u001b[0m\u001b[0;34m.\u001b[0m\u001b[0mget_single_node\u001b[0m\u001b[0;34m(\u001b[0m\u001b[0;34m)\u001b[0m\u001b[0;34m\u001b[0m\u001b[0m\n\u001b[0m\u001b[1;32m     38\u001b[0m         \u001b[0;32mif\u001b[0m \u001b[0mnode\u001b[0m \u001b[0;32mis\u001b[0m \u001b[0;32mnot\u001b[0m \u001b[0mNone\u001b[0m\u001b[0;34m:\u001b[0m\u001b[0;34m\u001b[0m\u001b[0m\n\u001b[1;32m     39\u001b[0m             \u001b[0;32mreturn\u001b[0m \u001b[0mself\u001b[0m\u001b[0;34m.\u001b[0m\u001b[0mconstruct_document\u001b[0m\u001b[0;34m(\u001b[0m\u001b[0mnode\u001b[0m\u001b[0;34m)\u001b[0m\u001b[0;34m\u001b[0m\u001b[0m\n",
      "\u001b[0;32m/Users/davidkroodsma/venv/lib/python2.7/site-packages/yaml/composer.pyc\u001b[0m in \u001b[0;36mget_single_node\u001b[0;34m(self)\u001b[0m\n\u001b[1;32m     34\u001b[0m         \u001b[0mdocument\u001b[0m \u001b[0;34m=\u001b[0m \u001b[0mNone\u001b[0m\u001b[0;34m\u001b[0m\u001b[0m\n\u001b[1;32m     35\u001b[0m         \u001b[0;32mif\u001b[0m \u001b[0;32mnot\u001b[0m \u001b[0mself\u001b[0m\u001b[0;34m.\u001b[0m\u001b[0mcheck_event\u001b[0m\u001b[0;34m(\u001b[0m\u001b[0mStreamEndEvent\u001b[0m\u001b[0;34m)\u001b[0m\u001b[0;34m:\u001b[0m\u001b[0;34m\u001b[0m\u001b[0m\n\u001b[0;32m---> 36\u001b[0;31m             \u001b[0mdocument\u001b[0m \u001b[0;34m=\u001b[0m \u001b[0mself\u001b[0m\u001b[0;34m.\u001b[0m\u001b[0mcompose_document\u001b[0m\u001b[0;34m(\u001b[0m\u001b[0;34m)\u001b[0m\u001b[0;34m\u001b[0m\u001b[0m\n\u001b[0m\u001b[1;32m     37\u001b[0m \u001b[0;34m\u001b[0m\u001b[0m\n\u001b[1;32m     38\u001b[0m         \u001b[0;31m# Ensure that the stream contains no more documents.\u001b[0m\u001b[0;34m\u001b[0m\u001b[0;34m\u001b[0m\u001b[0m\n",
      "\u001b[0;32m/Users/davidkroodsma/venv/lib/python2.7/site-packages/yaml/composer.pyc\u001b[0m in \u001b[0;36mcompose_document\u001b[0;34m(self)\u001b[0m\n\u001b[1;32m     53\u001b[0m \u001b[0;34m\u001b[0m\u001b[0m\n\u001b[1;32m     54\u001b[0m         \u001b[0;31m# Compose the root node.\u001b[0m\u001b[0;34m\u001b[0m\u001b[0;34m\u001b[0m\u001b[0m\n\u001b[0;32m---> 55\u001b[0;31m         \u001b[0mnode\u001b[0m \u001b[0;34m=\u001b[0m \u001b[0mself\u001b[0m\u001b[0;34m.\u001b[0m\u001b[0mcompose_node\u001b[0m\u001b[0;34m(\u001b[0m\u001b[0mNone\u001b[0m\u001b[0;34m,\u001b[0m \u001b[0mNone\u001b[0m\u001b[0;34m)\u001b[0m\u001b[0;34m\u001b[0m\u001b[0m\n\u001b[0m\u001b[1;32m     56\u001b[0m \u001b[0;34m\u001b[0m\u001b[0m\n\u001b[1;32m     57\u001b[0m         \u001b[0;31m# Drop the DOCUMENT-END event.\u001b[0m\u001b[0;34m\u001b[0m\u001b[0;34m\u001b[0m\u001b[0m\n",
      "\u001b[0;32m/Users/davidkroodsma/venv/lib/python2.7/site-packages/yaml/composer.pyc\u001b[0m in \u001b[0;36mcompose_node\u001b[0;34m(self, parent, index)\u001b[0m\n\u001b[1;32m     82\u001b[0m             \u001b[0mnode\u001b[0m \u001b[0;34m=\u001b[0m \u001b[0mself\u001b[0m\u001b[0;34m.\u001b[0m\u001b[0mcompose_sequence_node\u001b[0m\u001b[0;34m(\u001b[0m\u001b[0manchor\u001b[0m\u001b[0;34m)\u001b[0m\u001b[0;34m\u001b[0m\u001b[0m\n\u001b[1;32m     83\u001b[0m         \u001b[0;32melif\u001b[0m \u001b[0mself\u001b[0m\u001b[0;34m.\u001b[0m\u001b[0mcheck_event\u001b[0m\u001b[0;34m(\u001b[0m\u001b[0mMappingStartEvent\u001b[0m\u001b[0;34m)\u001b[0m\u001b[0;34m:\u001b[0m\u001b[0;34m\u001b[0m\u001b[0m\n\u001b[0;32m---> 84\u001b[0;31m             \u001b[0mnode\u001b[0m \u001b[0;34m=\u001b[0m \u001b[0mself\u001b[0m\u001b[0;34m.\u001b[0m\u001b[0mcompose_mapping_node\u001b[0m\u001b[0;34m(\u001b[0m\u001b[0manchor\u001b[0m\u001b[0;34m)\u001b[0m\u001b[0;34m\u001b[0m\u001b[0m\n\u001b[0m\u001b[1;32m     85\u001b[0m         \u001b[0mself\u001b[0m\u001b[0;34m.\u001b[0m\u001b[0mascend_resolver\u001b[0m\u001b[0;34m(\u001b[0m\u001b[0;34m)\u001b[0m\u001b[0;34m\u001b[0m\u001b[0m\n\u001b[1;32m     86\u001b[0m         \u001b[0;32mreturn\u001b[0m \u001b[0mnode\u001b[0m\u001b[0;34m\u001b[0m\u001b[0m\n",
      "\u001b[0;32m/Users/davidkroodsma/venv/lib/python2.7/site-packages/yaml/composer.pyc\u001b[0m in \u001b[0;36mcompose_mapping_node\u001b[0;34m(self, anchor)\u001b[0m\n\u001b[1;32m    131\u001b[0m             \u001b[0;31m#    raise ComposerError(\"while composing a mapping\", start_event.start_mark,\u001b[0m\u001b[0;34m\u001b[0m\u001b[0;34m\u001b[0m\u001b[0m\n\u001b[1;32m    132\u001b[0m             \u001b[0;31m#            \"found duplicate key\", key_event.start_mark)\u001b[0m\u001b[0;34m\u001b[0m\u001b[0;34m\u001b[0m\u001b[0m\n\u001b[0;32m--> 133\u001b[0;31m             \u001b[0mitem_value\u001b[0m \u001b[0;34m=\u001b[0m \u001b[0mself\u001b[0m\u001b[0;34m.\u001b[0m\u001b[0mcompose_node\u001b[0m\u001b[0;34m(\u001b[0m\u001b[0mnode\u001b[0m\u001b[0;34m,\u001b[0m \u001b[0mitem_key\u001b[0m\u001b[0;34m)\u001b[0m\u001b[0;34m\u001b[0m\u001b[0m\n\u001b[0m\u001b[1;32m    134\u001b[0m             \u001b[0;31m#node.value[item_key] = item_value\u001b[0m\u001b[0;34m\u001b[0m\u001b[0;34m\u001b[0m\u001b[0m\n\u001b[1;32m    135\u001b[0m             \u001b[0mnode\u001b[0m\u001b[0;34m.\u001b[0m\u001b[0mvalue\u001b[0m\u001b[0;34m.\u001b[0m\u001b[0mappend\u001b[0m\u001b[0;34m(\u001b[0m\u001b[0;34m(\u001b[0m\u001b[0mitem_key\u001b[0m\u001b[0;34m,\u001b[0m \u001b[0mitem_value\u001b[0m\u001b[0;34m)\u001b[0m\u001b[0;34m)\u001b[0m\u001b[0;34m\u001b[0m\u001b[0m\n",
      "\u001b[0;32m/Users/davidkroodsma/venv/lib/python2.7/site-packages/yaml/composer.pyc\u001b[0m in \u001b[0;36mcompose_node\u001b[0;34m(self, parent, index)\u001b[0m\n\u001b[1;32m     82\u001b[0m             \u001b[0mnode\u001b[0m \u001b[0;34m=\u001b[0m \u001b[0mself\u001b[0m\u001b[0;34m.\u001b[0m\u001b[0mcompose_sequence_node\u001b[0m\u001b[0;34m(\u001b[0m\u001b[0manchor\u001b[0m\u001b[0;34m)\u001b[0m\u001b[0;34m\u001b[0m\u001b[0m\n\u001b[1;32m     83\u001b[0m         \u001b[0;32melif\u001b[0m \u001b[0mself\u001b[0m\u001b[0;34m.\u001b[0m\u001b[0mcheck_event\u001b[0m\u001b[0;34m(\u001b[0m\u001b[0mMappingStartEvent\u001b[0m\u001b[0;34m)\u001b[0m\u001b[0;34m:\u001b[0m\u001b[0;34m\u001b[0m\u001b[0m\n\u001b[0;32m---> 84\u001b[0;31m             \u001b[0mnode\u001b[0m \u001b[0;34m=\u001b[0m \u001b[0mself\u001b[0m\u001b[0;34m.\u001b[0m\u001b[0mcompose_mapping_node\u001b[0m\u001b[0;34m(\u001b[0m\u001b[0manchor\u001b[0m\u001b[0;34m)\u001b[0m\u001b[0;34m\u001b[0m\u001b[0m\n\u001b[0m\u001b[1;32m     85\u001b[0m         \u001b[0mself\u001b[0m\u001b[0;34m.\u001b[0m\u001b[0mascend_resolver\u001b[0m\u001b[0;34m(\u001b[0m\u001b[0;34m)\u001b[0m\u001b[0;34m\u001b[0m\u001b[0m\n\u001b[1;32m     86\u001b[0m         \u001b[0;32mreturn\u001b[0m \u001b[0mnode\u001b[0m\u001b[0;34m\u001b[0m\u001b[0m\n",
      "\u001b[0;32m/Users/davidkroodsma/venv/lib/python2.7/site-packages/yaml/composer.pyc\u001b[0m in \u001b[0;36mcompose_mapping_node\u001b[0;34m(self, anchor)\u001b[0m\n\u001b[1;32m    125\u001b[0m         \u001b[0;32mif\u001b[0m \u001b[0manchor\u001b[0m \u001b[0;32mis\u001b[0m \u001b[0;32mnot\u001b[0m \u001b[0mNone\u001b[0m\u001b[0;34m:\u001b[0m\u001b[0;34m\u001b[0m\u001b[0m\n\u001b[1;32m    126\u001b[0m             \u001b[0mself\u001b[0m\u001b[0;34m.\u001b[0m\u001b[0manchors\u001b[0m\u001b[0;34m[\u001b[0m\u001b[0manchor\u001b[0m\u001b[0;34m]\u001b[0m \u001b[0;34m=\u001b[0m \u001b[0mnode\u001b[0m\u001b[0;34m\u001b[0m\u001b[0m\n\u001b[0;32m--> 127\u001b[0;31m         \u001b[0;32mwhile\u001b[0m \u001b[0;32mnot\u001b[0m \u001b[0mself\u001b[0m\u001b[0;34m.\u001b[0m\u001b[0mcheck_event\u001b[0m\u001b[0;34m(\u001b[0m\u001b[0mMappingEndEvent\u001b[0m\u001b[0;34m)\u001b[0m\u001b[0;34m:\u001b[0m\u001b[0;34m\u001b[0m\u001b[0m\n\u001b[0m\u001b[1;32m    128\u001b[0m             \u001b[0;31m#key_event = self.peek_event()\u001b[0m\u001b[0;34m\u001b[0m\u001b[0;34m\u001b[0m\u001b[0m\n\u001b[1;32m    129\u001b[0m             \u001b[0mitem_key\u001b[0m \u001b[0;34m=\u001b[0m \u001b[0mself\u001b[0m\u001b[0;34m.\u001b[0m\u001b[0mcompose_node\u001b[0m\u001b[0;34m(\u001b[0m\u001b[0mnode\u001b[0m\u001b[0;34m,\u001b[0m \u001b[0mNone\u001b[0m\u001b[0;34m)\u001b[0m\u001b[0;34m\u001b[0m\u001b[0m\n",
      "\u001b[0;32m/Users/davidkroodsma/venv/lib/python2.7/site-packages/yaml/parser.pyc\u001b[0m in \u001b[0;36mcheck_event\u001b[0;34m(self, *choices)\u001b[0m\n\u001b[1;32m     96\u001b[0m         \u001b[0;32mif\u001b[0m \u001b[0mself\u001b[0m\u001b[0;34m.\u001b[0m\u001b[0mcurrent_event\u001b[0m \u001b[0;32mis\u001b[0m \u001b[0mNone\u001b[0m\u001b[0;34m:\u001b[0m\u001b[0;34m\u001b[0m\u001b[0m\n\u001b[1;32m     97\u001b[0m             \u001b[0;32mif\u001b[0m \u001b[0mself\u001b[0m\u001b[0;34m.\u001b[0m\u001b[0mstate\u001b[0m\u001b[0;34m:\u001b[0m\u001b[0;34m\u001b[0m\u001b[0m\n\u001b[0;32m---> 98\u001b[0;31m                 \u001b[0mself\u001b[0m\u001b[0;34m.\u001b[0m\u001b[0mcurrent_event\u001b[0m \u001b[0;34m=\u001b[0m \u001b[0mself\u001b[0m\u001b[0;34m.\u001b[0m\u001b[0mstate\u001b[0m\u001b[0;34m(\u001b[0m\u001b[0;34m)\u001b[0m\u001b[0;34m\u001b[0m\u001b[0m\n\u001b[0m\u001b[1;32m     99\u001b[0m         \u001b[0;32mif\u001b[0m \u001b[0mself\u001b[0m\u001b[0;34m.\u001b[0m\u001b[0mcurrent_event\u001b[0m \u001b[0;32mis\u001b[0m \u001b[0;32mnot\u001b[0m \u001b[0mNone\u001b[0m\u001b[0;34m:\u001b[0m\u001b[0;34m\u001b[0m\u001b[0m\n\u001b[1;32m    100\u001b[0m             \u001b[0;32mif\u001b[0m \u001b[0;32mnot\u001b[0m \u001b[0mchoices\u001b[0m\u001b[0;34m:\u001b[0m\u001b[0;34m\u001b[0m\u001b[0m\n",
      "\u001b[0;32m/Users/davidkroodsma/venv/lib/python2.7/site-packages/yaml/parser.pyc\u001b[0m in \u001b[0;36mparse_block_mapping_key\u001b[0;34m(self)\u001b[0m\n\u001b[1;32m    426\u001b[0m \u001b[0;34m\u001b[0m\u001b[0m\n\u001b[1;32m    427\u001b[0m     \u001b[0;32mdef\u001b[0m \u001b[0mparse_block_mapping_key\u001b[0m\u001b[0;34m(\u001b[0m\u001b[0mself\u001b[0m\u001b[0;34m)\u001b[0m\u001b[0;34m:\u001b[0m\u001b[0;34m\u001b[0m\u001b[0m\n\u001b[0;32m--> 428\u001b[0;31m         \u001b[0;32mif\u001b[0m \u001b[0mself\u001b[0m\u001b[0;34m.\u001b[0m\u001b[0mcheck_token\u001b[0m\u001b[0;34m(\u001b[0m\u001b[0mKeyToken\u001b[0m\u001b[0;34m)\u001b[0m\u001b[0;34m:\u001b[0m\u001b[0;34m\u001b[0m\u001b[0m\n\u001b[0m\u001b[1;32m    429\u001b[0m             \u001b[0mtoken\u001b[0m \u001b[0;34m=\u001b[0m \u001b[0mself\u001b[0m\u001b[0;34m.\u001b[0m\u001b[0mget_token\u001b[0m\u001b[0;34m(\u001b[0m\u001b[0;34m)\u001b[0m\u001b[0;34m\u001b[0m\u001b[0m\n\u001b[1;32m    430\u001b[0m             \u001b[0;32mif\u001b[0m \u001b[0;32mnot\u001b[0m \u001b[0mself\u001b[0m\u001b[0;34m.\u001b[0m\u001b[0mcheck_token\u001b[0m\u001b[0;34m(\u001b[0m\u001b[0mKeyToken\u001b[0m\u001b[0;34m,\u001b[0m \u001b[0mValueToken\u001b[0m\u001b[0;34m,\u001b[0m \u001b[0mBlockEndToken\u001b[0m\u001b[0;34m)\u001b[0m\u001b[0;34m:\u001b[0m\u001b[0;34m\u001b[0m\u001b[0m\n",
      "\u001b[0;32m/Users/davidkroodsma/venv/lib/python2.7/site-packages/yaml/scanner.pyc\u001b[0m in \u001b[0;36mcheck_token\u001b[0;34m(self, *choices)\u001b[0m\n\u001b[1;32m    114\u001b[0m         \u001b[0;31m# Check if the next token is one of the given types.\u001b[0m\u001b[0;34m\u001b[0m\u001b[0;34m\u001b[0m\u001b[0m\n\u001b[1;32m    115\u001b[0m         \u001b[0;32mwhile\u001b[0m \u001b[0mself\u001b[0m\u001b[0;34m.\u001b[0m\u001b[0mneed_more_tokens\u001b[0m\u001b[0;34m(\u001b[0m\u001b[0;34m)\u001b[0m\u001b[0;34m:\u001b[0m\u001b[0;34m\u001b[0m\u001b[0m\n\u001b[0;32m--> 116\u001b[0;31m             \u001b[0mself\u001b[0m\u001b[0;34m.\u001b[0m\u001b[0mfetch_more_tokens\u001b[0m\u001b[0;34m(\u001b[0m\u001b[0;34m)\u001b[0m\u001b[0;34m\u001b[0m\u001b[0m\n\u001b[0m\u001b[1;32m    117\u001b[0m         \u001b[0;32mif\u001b[0m \u001b[0mself\u001b[0m\u001b[0;34m.\u001b[0m\u001b[0mtokens\u001b[0m\u001b[0;34m:\u001b[0m\u001b[0;34m\u001b[0m\u001b[0m\n\u001b[1;32m    118\u001b[0m             \u001b[0;32mif\u001b[0m \u001b[0;32mnot\u001b[0m \u001b[0mchoices\u001b[0m\u001b[0;34m:\u001b[0m\u001b[0;34m\u001b[0m\u001b[0m\n",
      "\u001b[0;32m/Users/davidkroodsma/venv/lib/python2.7/site-packages/yaml/scanner.pyc\u001b[0m in \u001b[0;36mfetch_more_tokens\u001b[0;34m(self)\u001b[0m\n\u001b[1;32m    218\u001b[0m         \u001b[0;31m# Is it the value indicator?\u001b[0m\u001b[0;34m\u001b[0m\u001b[0;34m\u001b[0m\u001b[0m\n\u001b[1;32m    219\u001b[0m         \u001b[0;32mif\u001b[0m \u001b[0mch\u001b[0m \u001b[0;34m==\u001b[0m \u001b[0;34mu':'\u001b[0m \u001b[0;32mand\u001b[0m \u001b[0mself\u001b[0m\u001b[0;34m.\u001b[0m\u001b[0mcheck_value\u001b[0m\u001b[0;34m(\u001b[0m\u001b[0;34m)\u001b[0m\u001b[0;34m:\u001b[0m\u001b[0;34m\u001b[0m\u001b[0m\n\u001b[0;32m--> 220\u001b[0;31m             \u001b[0;32mreturn\u001b[0m \u001b[0mself\u001b[0m\u001b[0;34m.\u001b[0m\u001b[0mfetch_value\u001b[0m\u001b[0;34m(\u001b[0m\u001b[0;34m)\u001b[0m\u001b[0;34m\u001b[0m\u001b[0m\n\u001b[0m\u001b[1;32m    221\u001b[0m \u001b[0;34m\u001b[0m\u001b[0m\n\u001b[1;32m    222\u001b[0m         \u001b[0;31m# Is it an alias?\u001b[0m\u001b[0;34m\u001b[0m\u001b[0;34m\u001b[0m\u001b[0m\n",
      "\u001b[0;32m/Users/davidkroodsma/venv/lib/python2.7/site-packages/yaml/scanner.pyc\u001b[0m in \u001b[0;36mfetch_value\u001b[0;34m(self)\u001b[0m\n\u001b[1;32m    574\u001b[0m                     raise ScannerError(None, None,\n\u001b[1;32m    575\u001b[0m                             \u001b[0;34m\"mapping values are not allowed here\"\u001b[0m\u001b[0;34m,\u001b[0m\u001b[0;34m\u001b[0m\u001b[0m\n\u001b[0;32m--> 576\u001b[0;31m                             self.get_mark())\n\u001b[0m\u001b[1;32m    577\u001b[0m \u001b[0;34m\u001b[0m\u001b[0m\n\u001b[1;32m    578\u001b[0m             \u001b[0;31m# If this value starts a new block mapping, we need to add\u001b[0m\u001b[0;34m\u001b[0m\u001b[0;34m\u001b[0m\u001b[0m\n",
      "\u001b[0;31mScannerError\u001b[0m: mapping values are not allowed here\n  in \"<string>\", line 1623, column 51:\n     ...  How birds go to roost and awake: Going to roost\n                                         ^"
     ]
    }
   ],
   "source": [
    "with open(\"yaml/pages.yaml\",'rU') as f:\n",
    "    pages = yaml.load(f.read())"
   ]
  },
  {
   "cell_type": "code",
   "execution_count": null,
   "metadata": {},
   "outputs": [],
   "source": [
    "pages[243]"
   ]
  },
  {
   "cell_type": "code",
   "execution_count": null,
   "metadata": {},
   "outputs": [],
   "source": []
  },
  {
   "cell_type": "code",
   "execution_count": 173,
   "metadata": {},
   "outputs": [],
   "source": [
    "# note that the page values start at 1, so add a value to the start of these\n",
    "# arrays\n",
    "species_files = ['0']\n",
    "species_names_headers = ['0']\n",
    "web_chapters = ['0']\n",
    "subchapters = ['0']\n",
    "from_pages = ['0']\n",
    "explores = ['0']\n",
    "\n",
    "\n",
    "for i in range(1,len(pages)+1):\n",
    "    d = pages[i]\n",
    "    species_names_headers.append(d['title'])\n",
    "    species_files.append(d['filename'])\n",
    "    web_chapters.append(d['chapter_name'].replace(\".\",\":\"))\n",
    "    subchapters.append(d['subchapter_name'].replace('\"',\"&quot;\").replace('--','&mdash;'))\n",
    "    from_pages.append(d['from_page'])\n",
    "    explores.append(d['explores']) \n",
    "    \n",
    "\n",
    "with open(\"lookup_php2.php\", 'w') as f:\n",
    "    f.write(\"<?php \")\n",
    "    t = '$species_names_headers=[\"'+'\",\"'.join(species_names_headers)+'\"' + \"];\\n\"\n",
    "#     print(t)\n",
    "    f.write(t.encode(\"utf-8\"))\n",
    "    t = \"$species_files=['\"+\"','\".join(species_files)+\"'\" + \"];\\n\"\n",
    "#     print(t)\n",
    "    f.write(t.encode(\"utf-8\"))    \n",
    "    t = \"$web_chapters=['\"+\"','\".join(web_chapters)+\"'\" + \"];\\n\"\n",
    "#     print(t)\n",
    "    f.write(t.encode(\"utf-8\"))   \n",
    "    t = '$subchapters=[\"'+'\",\"'.join(subchapters)+'\"' + \"];\\n\"\n",
    "#     print(t)\n",
    "    f.write(t.encode(\"utf-8\"))   \n",
    "    t = \"$from_pages=['\"+\"','\".join(map(str,from_pages))+\"'\" + \"];\\n\"\n",
    "    f.write(t.encode(\"utf-8\"))   \n",
    "    t = \"$explores=['\"+\"','\".join(map(str,explores))+\"'\" + \"];\\n\"\n",
    "    f.write(t.encode(\"utf-8\"))\n",
    "    f.write(\" ?>\")"
   ]
  },
  {
   "cell_type": "code",
   "execution_count": null,
   "metadata": {},
   "outputs": [],
   "source": []
  },
  {
   "cell_type": "markdown",
   "metadata": {},
   "source": [
    "# Make Image Tables"
   ]
  },
  {
   "cell_type": "code",
   "execution_count": 174,
   "metadata": {},
   "outputs": [],
   "source": [
    "\n",
    "\n",
    "image_template = '''\t\t\t<div class=\"species-gallery\">\n",
    "\t\t\t\t<div>\n",
    "\t\t\t\t\t<img src=\"img/noca2.jpg\" alt=\"\" />\n",
    "\t\t\t\t\t<p class=\"caption\">Female; Photo by Marie Read</p>\n",
    "\t\t\t\t</div>\n",
    "\t\t\t\t<div>\n",
    "\t\t\t\t\t<img src=\"img/noca1.jpg\" alt=\"\" />\n",
    "\t\t\t\t\t<p class=\"caption\">Male; Photo by Brian E. Small</p>\n",
    "\t\t\t\t</div>\n",
    "\t\t\t\t<div>\n",
    "\t\t\t\t\t<img src=\"img/noca2.jpg\" alt=\"\" />\n",
    "\t\t\t\t\t<p class=\"caption\">Female; Photo by Marie Read</p>\n",
    "\t\t\t\t</div>\n",
    "\t\t\t\t\n",
    "\t\t\t\t\n",
    "\t\t\t</div>\n",
    "'''\n",
    "\n",
    "an_image = '''\t\t\t\t<div>\n",
    "\t\t\t\t\t<img src=\"photos/{photo_file}.jpg\" alt=\"\" />\n",
    "\t\t\t\t\t<p class=\"caption\">{caption}</p>\n",
    "\t\t\t\t</div>'''\n",
    "\n",
    "\n",
    "\n",
    "for i in range(1,len(pages)+1):\n",
    "\n",
    "    \n",
    "    image_table_text = '<div class=\"species-gallery\">'\n",
    "\n",
    "    for photo in pages[i]['pictures']:\n",
    "        photo_file = photo['photo_file']\n",
    "        caption = photo['photo_caption']\n",
    "        image_table_text += an_image.format(photo_file = photo_file ,\n",
    "                                           caption = caption )\n",
    "\n",
    "    image_table_text += \"</div>\"\n",
    "        \n",
    "#     if len(pages[i]['pictures'])>1:\n",
    "#         print(pages[i]['pictures'], i)\n",
    "    with open(\"Species_Image_HTML/\"+pages[i]['filename']+\"_images.html\", 'w') as f:\n",
    "        f.write(image_table_text)\n"
   ]
  },
  {
   "cell_type": "code",
   "execution_count": 175,
   "metadata": {},
   "outputs": [
    {
     "name": "stdout",
     "output_type": "stream",
     "text": [
      "Photo by Brian E. Small BcCh-BS-1-Black-capped_Chickadee_B9H4324\n"
     ]
    }
   ],
   "source": [
    "for photo in pages[1]['pictures']:\n",
    "    print(photo['photo_caption'], photo['photo_file'])"
   ]
  },
  {
   "cell_type": "code",
   "execution_count": 176,
   "metadata": {},
   "outputs": [],
   "source": [
    "# !mkdir Species_Image_HTML_test"
   ]
  },
  {
   "cell_type": "code",
   "execution_count": null,
   "metadata": {},
   "outputs": [],
   "source": []
  },
  {
   "cell_type": "markdown",
   "metadata": {},
   "source": [
    "# Search by Chapter Text"
   ]
  },
  {
   "cell_type": "code",
   "execution_count": null,
   "metadata": {},
   "outputs": [],
   "source": []
  },
  {
   "cell_type": "code",
   "execution_count": 177,
   "metadata": {},
   "outputs": [],
   "source": [
    "\n",
    "\n",
    "text = '''\t\t\t\t<ul class=\"collapser\">\n",
    "\t\t\t\t\t<li><a href=\"#\"><i class=\"fas fa-plus-circle\"></i> Chapter 2: Birds and Their Sounds</a>\n",
    "\t\t\t\t\t\t<ul class=\"show-hide collapser\">\n",
    "\t\t\t\t\t\t\t<li><a href=\"#\"><i class=\"fas fa-plus-circle\"></i> Birds, sing and call</a>\n",
    "\t\t\t\t\t\t\t\t<ul class=\"show-hide\">\n",
    "\t\t\t\t\t\t\t\t\t\n",
    "\t\t\t\t\t\t\t\t\t<li><a href=\"recording.php\">Black-capped chickadee</a></li>\n",
    "\t\t\t\t\t\t\t\t\t<li><a href=\"recording.php\">White-breasted nuthatch</a></li>\n",
    "\t\t\t\t\t\t\t\t\t<li><a href=\"recording.php\">Veery</a></li>\n",
    "\t\t\t\t\t\t\t\t\t<li><a href=\"recording.php\">American robin</a></li>\n",
    "\t\t\t\t\t\t\t\t\t<li><a href=\"recording.php\">Gray catbird</a></li>\n",
    "\t\t\t\t\t\t\t\t\t<li><a href=\"recording.php\">Common yellowthroat</a></li>\n",
    "\t\t\t\t\t\t\t\t\t\n",
    "\t\t\t\t\t\t\t\t</ul>\n",
    "\t\t\t\t\t\t\t</li>\n",
    "\t\t\t\t\t\t\t<li><a href=\"#\"><i class=\"fas fa-plus-circle\"></i> Birds without a song just call</a>\n",
    "\t\t\t\t\t\t\t\t<ul class=\"show-hide\">\n",
    "\t\t\t\t\t\t\t\t\t\n",
    "\t\t\t\t\t\t\t\t\t<li><a href=\"recording.php\">Canada goose</a></li>\n",
    "\t\t\t\t\t\t\t\t\t<li><a href=\"recording.php\">Mallard</a></li>\n",
    "\t\t\t\t\t\t\t\t\t<li><a href=\"recording.php\">Chimney swift</a></li>\n",
    "\t\t\t\t\t\t\t\t\t<li><a href=\"recording.php\">Killdeer</a></li>\n",
    "\t\t\t\t\t\t\t\t\t<li><a href=\"recording.php\">Double-crested cormorant</a></li>\n",
    "\t\t\t\t\t\t\t\t\t<li><a href=\"recording.php\">Red-shouldered hawk</a></li>\n",
    "\t\t\t\t\t\t\t\t\t\n",
    "\t\t\t\t\t\t\t\t</ul>\n",
    "\t\t\t\t\t\t\t</li>\n",
    "\t\t\t\t\t\t</ul>\n",
    "\t\t\t\t\t</li>\n",
    "\t\t\t\t\t<li><a href=\"#\"><i class=\"fas fa-plus-circle\"></i> Chapter 3: Why and How Birds Sing</a>\n",
    "\t\t\t\t\t\t<ul class=\"show-hide collapser\">\n",
    "\t\t\t\t\t\t\t<li><a href=\"#\"><i class=\"fas fa-plus-circle\"></i> Why sing?</a>\n",
    "\t\t\t\t\t\t\t\t<ul class=\"show-hide\">\n",
    "\t\t\t\t\t\t\t\t\t\n",
    "\t\t\t\t\t\t\t\t\t<li><a href=\"recording.php\">Eastern whip-poor-will, Mexican whip-poor-will</a></li>\n",
    "\t\t\t\t\t\t\t\t\t<li><a href=\"recording.php\">Virginia rail, sora</a></li>\n",
    "\t\t\t\t\t\t\t\t\t<li><a href=\"recording.php\">Brown thrasher</a></li>\n",
    "\t\t\t\t\t\t\t\t\t<li><a href=\"recording.php\">Black-throated blue warbler</a></li>\n",
    "\t\t\t\t\t\t\t\t\t<li><a href=\"recording.php\">Wild turkey</a></li>\n",
    "\t\t\t\t\t\t\t\t\t<li><a href=\"recording.php\">Dickcissel</a></li>\n",
    "\t\t\t\t\t\t\t\t\t<li><a href=\"recording.php\">Yellow-headed blackbird</a></li>\n",
    "\t\t\t\t\t\t\t\t\t\n",
    "\t\t\t\t\t\t\t\t</ul>\n",
    "\t\t\t\t\t\t\t</li>\n",
    "\t\t\t\t\t\t</ul>\n",
    "\t\t\t\t\t</li>\n",
    "\t\t\t\t</ul>\n",
    "'''\n",
    "\n",
    "chapter_list_text = u'<ul class=\"collapser\">'\n",
    "\n",
    "chapter_heading = u'''<li> <a href=\"#\" id=\"{chapter_heading_forlink}\"><i class=\"fas fa-plus-circle\"></i> {chapter_heading}</a>\n",
    "\t\t\t\t\t\t<ul class=\"show-hide collapser\">\n",
    "                        '''\n",
    "\n",
    "subchapter_heading = u'''<li> <a href=\"#\" id=\"{subchapter_heading_forlink}\"><i class=\"fas fa-plus-circle\"></i> {subchapter_heading}</a>\n",
    "\t\t\t\t\t\t\t\t<ul class=\"show-hide\">\n",
    "                                '''\n",
    "\n",
    "species_link = u'''<li><a href=\"recording.php?page={file_index}\">{species_name}</a></li>'''\n",
    "\n",
    "subchapter_footer = u'''\t\t\t\t\t\t\t\t</ul>\n",
    "\t\t\t\t\t\t\t</li>\n",
    "'''\n",
    "\n",
    "chapter_footer = u'''\t\t\t\t\t\t</ul>\n",
    "\t\t\t\t\t</li>'''\n",
    "\n",
    "\n",
    "def webify_title(x):\n",
    "    return x.replace(\" \",\"_\").replace(\":\",\"\").replace(\".\",\"\").replace(\";\",\"\").replace(\",\",\"\")\n",
    "\n",
    "def add_chapter_heading(x):\n",
    "    global chapter_list_text\n",
    "    chapter_title = x['chapter_name']\n",
    "    chapter_title_link = webify_title(chapter_title)\n",
    "    chapter_list_text += chapter_heading.format(chapter_heading=chapter_title,\n",
    "                                            chapter_heading_forlink = chapter_title_link)\n",
    "    \n",
    "def add_subchapter_heading(x):\n",
    "    global chapter_list_text\n",
    "    subchapter_title = x['subchapter_name']  \n",
    "    subchapter_title_link = webify_title(subchapter_title)\n",
    "    chapter_list_text += subchapter_heading.format(subchapter_heading = subchapter_title,\n",
    "                                                   subchapter_heading_forlink=subchapter_title_link )\n",
    "\n",
    "    \n",
    "# initiate and declare global variables\n",
    "last_chapter_title = pages[1]['chapter_name']\n",
    "last_subchapter_title = pages[1]['subchapter_name']\n",
    "chapter_title = last_chapter_title\n",
    "subchapter_title = last_subchapter_title\n",
    "\n",
    "add_chapter_heading(pages[1])\n",
    "add_subchapter_heading(pages[1])\n",
    "\n",
    "\n",
    "for i in range(1, len(pages)+1):\n",
    "    chapter_title = pages[i]['chapter_name']\n",
    "    subchapter_title = pages[i]['subchapter_name']\n",
    "  \n",
    "    if last_subchapter_title != subchapter_title:\n",
    "        chapter_list_text += subchapter_footer\n",
    "        \n",
    "    if last_chapter_title != chapter_title:\n",
    "        chapter_list_text += chapter_footer\n",
    "        add_chapter_heading(pages[i])\n",
    "        last_chapter_title = chapter_title\n",
    "    \n",
    "    if last_subchapter_title != subchapter_title:\n",
    "        add_subchapter_heading(pages[i])\n",
    "        last_subchapter_title = subchapter_title\n",
    "    \n",
    "    species_name = pages[i]['title']\n",
    "    chapter_list_text += species_link.format(file_index = i, species_name = species_name)\n",
    "\n",
    "        \n",
    "    \n",
    "        \n",
    "chapter_list_text += subchapter_footer\n",
    "chapter_list_text += chapter_footer\n",
    "\n",
    "\n",
    "chapter_list_text += u\"</ul>\"\n",
    "\n",
    "# print(chapter_list_text)\n",
    "\n",
    "with open(\"chapter_lookup.php\", 'w') as f:\n",
    "    f.write(chapter_list_text.encode(\"utf-8\"))"
   ]
  },
  {
   "cell_type": "code",
   "execution_count": 178,
   "metadata": {},
   "outputs": [],
   "source": [
    "# pages[i]"
   ]
  },
  {
   "cell_type": "code",
   "execution_count": null,
   "metadata": {},
   "outputs": [],
   "source": []
  },
  {
   "cell_type": "code",
   "execution_count": 179,
   "metadata": {},
   "outputs": [
    {
     "name": "stdout",
     "output_type": "stream",
     "text": [
      "birds.yaml   explore.yaml pages.yaml\r\n"
     ]
    }
   ],
   "source": [
    "!ls yaml"
   ]
  },
  {
   "cell_type": "code",
   "execution_count": 193,
   "metadata": {},
   "outputs": [],
   "source": [
    "with open(\"yaml/birds.yaml\",'rU') as f:\n",
    "    birds = yaml.load(f.read())"
   ]
  },
  {
   "cell_type": "code",
   "execution_count": 194,
   "metadata": {},
   "outputs": [],
   "source": [
    "\n",
    "\n",
    "# birds[0]"
   ]
  },
  {
   "cell_type": "code",
   "execution_count": 195,
   "metadata": {},
   "outputs": [],
   "source": [
    "# pages"
   ]
  },
  {
   "cell_type": "code",
   "execution_count": 196,
   "metadata": {},
   "outputs": [
    {
     "name": "stdout",
     "output_type": "stream",
     "text": [
      "1\n"
     ]
    }
   ],
   "source": [
    "for p in pages:\n",
    "    print(p)#,pages[p])\n",
    "    break"
   ]
  },
  {
   "cell_type": "code",
   "execution_count": 197,
   "metadata": {},
   "outputs": [],
   "source": [
    "\n",
    "species_example_text = '''\t\t\t\t<ul class=\"collapser\">\n",
    "\t\t\t\t\t<li><a href=\"#\"><i class=\"fas fa-plus-circle\"></i> Ducks, geese</a>\n",
    "\t\t\t\t\t\t<ul class=\"show-hide\">\n",
    "\t\t\t\t\t\t\t<li><em>Anatidae</em>\n",
    "\t\t\t\t\t\t\t\t\n",
    "\t\t\t\t\t\t\t\t<ul>\n",
    "\t\t\t\t\t\t\t\t\t<li>Canada goose, <a href=\"recording.php\">27-29</a></li>\n",
    "\t\t\t\t\t\t\t\t\t<li>American wigeon, <a href=\"recording.php\">40</a></li>\n",
    "\t\t\t\t\t\t\t\t\t<li>Mallard, <a href=\"recording.php\">30-31</a></li>\n",
    "\t\t\t\t\t\t\t\t\t<li>Ruddy duck, <a href=\"recording.php\">64</a></li>\n",
    "\t\t\t\t\t\t\t\t</ul>\n",
    "\t\t\t\t\t\t\t</li>\n",
    "\t\t\t\t\t\t</ul>\n",
    "\t\t\t\t\t\t\n",
    "\t\t\t\t\t</li>\n",
    "\t\t\t\t\t<li><a href=\"#\"><i class=\"fas fa-plus-circle\"></i> Quail, chicken, grouse, turkey, chachalaca</a></li>\n",
    "\t\t\t\t\t<li><a href=\"#\"><i class=\"fas fa-plus-circle\"></i> Grebes, pigeons, doves</a></li>\n",
    "\t\t\t\t\t<li><a href=\"#\"><i class=\"fas fa-plus-circle\"></i> Nightjars</a></li>\n",
    "\t\t\t\t\t<li><a href=\"#\"><i class=\"fas fa-plus-circle\"></i> Thrushes</a></li>\n",
    "\t\t\t\t\t<li><a href=\"#\"><i class=\"fas fa-plus-circle\"></i> Mockingbirds, catbirds, thrashers, starlings</a>\n",
    "\t\t\t\t\t\t\n",
    "\t\t\t\t\t\t<ul class=\"show-hide\">\n",
    "\t\t\t\t\t\t\t<li><em>Mimidae</em>\n",
    "\t\t\t\t\t\t\t\t\n",
    "\t\t\t\t\t\t\t\t<ul>\n",
    "\t\t\t\t\t\t\t\t\t<li>Northern mockingbird, <a href=\"recording.php\">238</a>, <a href=\"recording.php\">335-342</a>, <a href=\"recording.php\">463</a>, <a href=\"recording.php\">516-517</a></li>\n",
    "\t\t\t\t\t\t\t\t</ul>\n",
    "\t\t\t\t\t\t\t</li>\n",
    "\t\t\t\t\t\t</ul>\n",
    "\t\t\t\t\t</li>\n",
    "\t\t\t\t</ul>'''\n",
    "\n",
    "species_list_text = u'<ul class=\"collapser\">\\n'\n",
    "\n",
    "group_name_text = u'''\t\t\t\t\t<li><a href=\"#\" onclick='update_url(\"{update_url}#species-list\")' id=\"{group_name_link}\"><i class=\"fas fa-plus-circle\"></i> {group_name}</a>\n",
    "\t\t\t\t\t\t<ul class=\"show-hide\">\n",
    "'''\n",
    "\n",
    "family_name_text = u'''\t\t\t\t\t\t\t<li><em> {family_name}</em>\n",
    "\t\t\t\t\t\t\t\t\n",
    "\t\t\t\t\t\t\t\t<ul>\n",
    "'''\n",
    "\n",
    "species_text_start = u'''\t\t\t\t\t\t\t\t\t\\\n",
    "<li>{species_name}, '''\n",
    "\n",
    "species_links = u'''<a href=\"recording.php?page={species_index}\">{songs}</a>'''\n",
    "\n",
    "species_text_end = u'''</li>\n",
    "'''\n",
    "\n",
    "\n",
    "family_name_footer = u'''\t\t\t\t\t\t\t\t</ul>\n",
    "\t\t\t\t\t\t\t</li>'''\n",
    "\n",
    "group_name_footer = u'''\t\t\t\t\t\t</ul>\n",
    "\t\t\t\t\t\t\n",
    "\t\t\t\t\t</li>\n",
    "'''\n",
    "\n",
    "\n",
    "\n",
    "groups = []\n",
    "for b in birds:\n",
    "    if b['group'] not in groups:\n",
    "        groups.append(b['group'])\n",
    "\n",
    "\n",
    "\n",
    "\n",
    "# df_species = pd.read_excel('Excel Files with organizing data/Listen by species.xlsx')\n",
    "\n",
    "\n",
    "def get_species_links(song, pages):\n",
    "    song_numbers = str(song).split(\"-\")\n",
    "    p_min = int(song_numbers[0])\n",
    "    for p in pages:\n",
    "        numbers_file = pages[p]['songs'].split(\"-\")\n",
    "        numbers_file = np.array(map(int, numbers_file))\n",
    "        if p_min >= numbers_file.min() and p_min <= numbers_file.max():\n",
    "            species_index = p\n",
    "    return species_index\n",
    "\n",
    "\n",
    "for group_name in groups:\n",
    "\n",
    "    \n",
    "    species_list_text += group_name_text.format(group_name=group_name, \n",
    "                                                group_name_link=webify_title(group_name),\n",
    "                                               update_url=\"?expand=\"+webify_title(group_name))\n",
    "    \n",
    "    families = []\n",
    "    for b in birds:\n",
    "        if b['group'] == group_name:\n",
    "            if b['family'] not in families:\n",
    "                families.append(b['family'])\n",
    "    \n",
    "    for family_name in families:        \n",
    "        species_list_text += family_name_text.format(family_name = family_name )\n",
    "        \n",
    "        for b in birds:\n",
    "            if b['family'] == family_name:\n",
    "        \n",
    "                species_name = b['bird_name']\n",
    "                species_list_text += species_text_start.format(species_name=species_name)#\n",
    "\n",
    "                # get the links\n",
    "                songs = b['songs']\n",
    "                links_to_add = []\n",
    "                for song in songs:\n",
    "                    species_index = get_species_links(song, pages)\n",
    "                    links_to_add.append(species_links.format(species_index=species_index,songs=song))\n",
    "                species_list_text += \",\".join(links_to_add)         \n",
    "                \n",
    "        species_list_text += species_text_end\n",
    "            \n",
    "        species_list_text += family_name_footer\n",
    "    \n",
    "    species_list_text += group_name_footer\n",
    "\n",
    "\n",
    "species_list_text += u\"</ul>\"\n",
    "\n",
    "with open(\"species_lookup.php\", 'w') as f:\n",
    "    f.write(species_list_text.encode(\"utf-8\"))"
   ]
  },
  {
   "cell_type": "code",
   "execution_count": 198,
   "metadata": {},
   "outputs": [],
   "source": [
    "with open(\"yaml/explore.yaml\",'rU') as f:\n",
    "    explores = yaml.load(f.read())"
   ]
  },
  {
   "cell_type": "code",
   "execution_count": 199,
   "metadata": {},
   "outputs": [
    {
     "data": {
      "text/plain": [
       "{'a_title': '1.  Chick-a-dee calls of North American chickadees.',\n",
       " 'chapter': '2. Birds and Their Sounds',\n",
       " 'subchapter': 'Birds sing and call',\n",
       " 'x_from_page': 8}"
      ]
     },
     "execution_count": 199,
     "metadata": {},
     "output_type": "execute_result"
    }
   ],
   "source": [
    "explores[1]"
   ]
  },
  {
   "cell_type": "code",
   "execution_count": 200,
   "metadata": {},
   "outputs": [],
   "source": [
    "# note that the page values start at 1, so add a value to the start of these\n",
    "# arrays\n",
    "titles_e = ['0']\n",
    "explore_files = ['0']\n",
    "chapters_e = ['0']\n",
    "subchapters_e = ['0']\n",
    "from_pages_e = ['0']\n",
    "\n",
    "\n",
    "\n",
    "\n",
    "for e in explores:\n",
    "    index = e\n",
    "    titles_e.append(explores[e]['a_title'])\n",
    "    explore_files.append('{}.html'.format(index))\n",
    "    chapters_e.append(explores[e]['chapter'])\n",
    "    subchapters_e.append(explores[e]['subchapter'].replace('\"',\"&quot;\").replace('--','&mdash;').replace(\"'\",\"&apos;\") )   \n",
    "    from_pages_e.append(explores[e]['x_from_page'])\n",
    "    \n",
    "\n",
    "    "
   ]
  },
  {
   "cell_type": "code",
   "execution_count": 201,
   "metadata": {},
   "outputs": [
    {
     "data": {
      "text/plain": [
       "'71-77'"
      ]
     },
     "execution_count": 201,
     "metadata": {},
     "output_type": "execute_result"
    }
   ],
   "source": [
    "\n",
    "\n",
    "get_group(71)"
   ]
  },
  {
   "cell_type": "code",
   "execution_count": null,
   "metadata": {},
   "outputs": [],
   "source": []
  },
  {
   "cell_type": "code",
   "execution_count": 202,
   "metadata": {},
   "outputs": [],
   "source": [
    "\n",
    "with open(\"explore_lookup.php\", 'w') as f:\n",
    "    f.write(\"<?php \")\n",
    "    t = '$titles_e=[\"'+'\",\"'.join(titles_e)+'\"' + \"];\\n\"\n",
    "#     print(t)\n",
    "    f.write(t.encode(\"utf-8\"))\n",
    "    t = \"$explore_files=['\"+\"','\".join(explore_files)+\"'\" + \"];\\n\"\n",
    "#     print(t)\n",
    "    f.write(t.encode(\"utf-8\"))    \n",
    "    t = \"$chapters_e=['\"+\"','\".join(chapters_e)+\"'\" + \"];\\n\"\n",
    "#     print(t)\n",
    "    f.write(t.encode(\"utf-8\"))   \n",
    "    t = '$subchapters_e=[\"'+'\",\"'.join(subchapters_e)+'\"' + \"];\\n\"\n",
    "#     print(t)\n",
    "    f.write(t.encode(\"utf-8\"))   \n",
    "    t = \"$from_pages_e=['\"+\"','\".join(map(str,from_pages_e))+\"'\" + \"];\\n\"\n",
    "    f.write(t.encode(\"utf-8\"))   \n",
    "    f.write(\" ?>\")"
   ]
  },
  {
   "cell_type": "code",
   "execution_count": null,
   "metadata": {},
   "outputs": [],
   "source": []
  },
  {
   "cell_type": "code",
   "execution_count": 203,
   "metadata": {},
   "outputs": [
    {
     "data": {
      "text/plain": [
       "{'a_title': '1.  Chick-a-dee calls of North American chickadees.',\n",
       " 'chapter': '2. Birds and Their Sounds',\n",
       " 'subchapter': 'Birds sing and call',\n",
       " 'x_from_page': 8}"
      ]
     },
     "execution_count": 203,
     "metadata": {},
     "output_type": "execute_result"
    }
   ],
   "source": [
    "explores[1]"
   ]
  },
  {
   "cell_type": "code",
   "execution_count": 204,
   "metadata": {},
   "outputs": [],
   "source": [
    "\n",
    "text = '''\t\t\t\t\t<li><a href=\"#\"><i class=\"fas fa-plus-circle\"></i> Explore 1-10</a>\n",
    "\t\t\t\t\t\t<ol class=\"show-hide\">\n",
    "\t\t\t\t\t\t\t<li><a href=\"explore.php\">Chick-a-dee calls of North American chickadees.</a></li>\n",
    "\t\t\t\t\t\t\t<li><a href=\"explore.php\">White-breasted nuthatch songs.</a></li>\n",
    "\t\t\t\t\t\t\t<li><a href=\"explore.php\">American robin songs.</a></li>\n",
    "\t\t\t\t\t\t\t<li></li>\n",
    "\t\t\t\t\t\t\t<li></li>\n",
    "\t\t\t\t\t\t\t<li></li>\n",
    "\t\t\t\t\t\t\t<li></li>\n",
    "\t\t\t\t\t\t\t<li></li>\n",
    "\t\t\t\t\t\t\t<li><a href=\"explore.php\">Singing from the nest by cardinals and grosbeaks.</a></li>\n",
    "\t\t\t\t\t\t\t<li><a href=\"explore.php\">Whistling wings of mourning doves.</a></li>\n",
    "\t\t\t\t\t\t</ol>\n",
    "\t\t\t\t\t</li>\n",
    "'''\n",
    "\n",
    "explore_text_heading = u'''<li><a href=\"#\" id=\"{explore_link}\"><i class=\"fas fa-plus-circle\"></i> {explore_range}</a>\n",
    "\t\t\t\t\t\t<ul class=\"show-hide\">'''\n",
    "\n",
    "chapter_li = u'''\t\t\t\t\t\t\t<li><a href=\"explore.php?page={page}\">{explore_title}</a></li>\n",
    "'''\n",
    "\n",
    "explore_heading_end = u'''\t\t\t\t\t\t</ul>\n",
    "\t\t\t\t\t</li>\n",
    "'''\n",
    "\n",
    "explore_text = ''\n",
    "\n",
    "\n",
    "def get_group(e):\n",
    "    start = math.floor((e-1)/10)\n",
    "    end = int((start+1)*10)\n",
    "\n",
    "    start = int(start*10+1)\n",
    "    if end > 70:\n",
    "        end = 77\n",
    "    return \"{}-{}\".format(start,end )\n",
    "\n",
    "groups = []\n",
    "\n",
    "for e in explores:\n",
    "    group = get_group(e)\n",
    "    if group not in groups:\n",
    "        groups.append(group)\n",
    "\n",
    "for group in groups:\n",
    "    explore_text += explore_text_heading.format(explore_range = group,explore_link=webify_title(group))\n",
    "    for e in explores:\n",
    "        if get_group(e)==group:\n",
    "            explore_text += chapter_li.format(page = e, explore_title = explores[e]['a_title'])\n",
    "    explore_text += explore_heading_end\n",
    "\n",
    "\n",
    "\n",
    "            \n",
    "\n",
    "with open(\"explore_index.php\", 'w') as f:\n",
    "    f.write(explore_text.encode(\"utf-8\"))\n",
    "            \n",
    "# print(explore_text)"
   ]
  },
  {
   "cell_type": "code",
   "execution_count": null,
   "metadata": {},
   "outputs": [],
   "source": []
  },
  {
   "cell_type": "code",
   "execution_count": null,
   "metadata": {},
   "outputs": [],
   "source": []
  }
 ],
 "metadata": {
  "kernelspec": {
   "display_name": "Python 2",
   "language": "python",
   "name": "python2"
  },
  "language_info": {
   "codemirror_mode": {
    "name": "ipython",
    "version": 2
   },
   "file_extension": ".py",
   "mimetype": "text/x-python",
   "name": "python",
   "nbconvert_exporter": "python",
   "pygments_lexer": "ipython2",
   "version": "2.7.16"
  }
 },
 "nbformat": 4,
 "nbformat_minor": 2
}
