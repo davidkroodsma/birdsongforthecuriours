{
 "cells": [
  {
   "cell_type": "code",
   "execution_count": 23,
   "metadata": {},
   "outputs": [],
   "source": [
    "# ! pip install pandoc"
   ]
  },
  {
   "cell_type": "code",
   "execution_count": 22,
   "metadata": {
    "scrolled": false
   },
   "outputs": [],
   "source": [
    "# ! brew install pandoc"
   ]
  },
  {
   "cell_type": "markdown",
   "metadata": {},
   "source": [
    "# Converte Explore Files to Markdown and HTML"
   ]
  },
  {
   "cell_type": "code",
   "execution_count": 4,
   "metadata": {},
   "outputs": [
    {
     "name": "stdout",
     "output_type": "stream",
     "text": [
      "Explore 1.docx       Explore 34.docx      Explore 59.docx\r\n",
      "Explore 10.docx      Explore 35.docx      Explore 6.docx\r\n",
      "Explore 11.docx      Explore 36.docx      Explore 60.docx\r\n",
      "Explore 12.docx      Explore 37.docx      Explore 61--bk1.docx\r\n",
      "Explore 13.docx      Explore 38.docx      Explore 61.docx\r\n",
      "Explore 14.docx      Explore 39.docx      Explore 62.docx\r\n",
      "Explore 15.docx      Explore 4.docx       Explore 63.docx\r\n",
      "Explore 16.docx      Explore 40.docx      Explore 64.docx\r\n",
      "Explore 17.docx      Explore 41.docx      Explore 65.docx\r\n",
      "Explore 18.docx      Explore 42.docx      Explore 66.docx\r\n",
      "Explore 19.docx      Explore 43.docx      Explore 67.docx\r\n",
      "Explore 2.docx       Explore 44.docx      Explore 68.docx\r\n",
      "Explore 20.docx      Explore 45.docx      Explore 69.docx\r\n",
      "Explore 21.docx      Explore 46.docx      Explore 7.docx\r\n",
      "Explore 22.docx      Explore 47.docx      Explore 70.docx\r\n",
      "Explore 23.docx      Explore 48.docx      Explore 71.docx\r\n",
      "Explore 24.docx      Explore 49.docx      Explore 72.docx\r\n",
      "Explore 25.docx      Explore 5.docx       Explore 73.docx\r\n",
      "Explore 26.docx      Explore 50.docx      Explore 74.docx\r\n",
      "Explore 27.docx      Explore 51.docx      Explore 75.docx\r\n",
      "Explore 28.docx      Explore 52.docx      Explore 76.docx\r\n",
      "Explore 29.docx      Explore 53.docx      Explore 77.docx\r\n",
      "Explore 3.docx       Explore 54.docx      Explore 78.docx\r\n",
      "Explore 30.docx      Explore 55.docx      Explore 8.docx\r\n",
      "Explore 31.docx      Explore 56.docx      Explore 9.docx\r\n",
      "Explore 32.docx      Explore 57.docx\r\n",
      "Explore 33.docx      Explore 58.docx\r\n"
     ]
    }
   ],
   "source": [
    "! ls ../Explore"
   ]
  },
  {
   "cell_type": "code",
   "execution_count": 33,
   "metadata": {},
   "outputs": [],
   "source": [
    "from os import listdir\n",
    "import os\n",
    "from os.path import isfile, join\n",
    "mypath = '../Explore'\n",
    "onlyfiles = [f for f in listdir(mypath) if isfile(join(mypath, f))]"
   ]
  },
  {
   "cell_type": "code",
   "execution_count": 5,
   "metadata": {},
   "outputs": [],
   "source": [
    "!mkdir ../Explore_Markdown"
   ]
  },
  {
   "cell_type": "code",
   "execution_count": 35,
   "metadata": {},
   "outputs": [],
   "source": [
    "for f in onlyfiles:\n",
    "    output = \"../Explore_Markdown/\" + f.split(\" \")[-1].replace(\"docx\",\"md\")\n",
    "    command = \"pandoc --from=DOCX -s '{mypath}/{f}' --to=markdown -o '{output}'\".format(mypath=mypath,\n",
    "                                                                                       output=output,\n",
    "                                                                                      f=f)\n",
    "    os.system(command)\n"
   ]
  },
  {
   "cell_type": "code",
   "execution_count": 73,
   "metadata": {},
   "outputs": [],
   "source": [
    "mypath = '../Explore_Markdown'\n",
    "onlyfiles = [f for f in listdir(mypath) if isfile(join(mypath, f))]"
   ]
  },
  {
   "cell_type": "code",
   "execution_count": 74,
   "metadata": {},
   "outputs": [],
   "source": [
    "for fi in onlyfiles:\n",
    "    with open(mypath+\"/\"+fi, 'r') as f:\n",
    "        lines = f.read()\n",
    "    \n",
    "    lines = lines.replace('''>\n",
    "> ''',\"\\n\").replace(\"\\n> \",\"\").replace(\"> \",\"\")\n",
    "    with open(mypath+\"/\"+fi, 'w') as f:\n",
    "        f.write(lines)  \n"
   ]
  },
  {
   "cell_type": "code",
   "execution_count": 75,
   "metadata": {},
   "outputs": [],
   "source": [
    "import markdown2"
   ]
  },
  {
   "cell_type": "code",
   "execution_count": 76,
   "metadata": {},
   "outputs": [
    {
     "name": "stdout",
     "output_type": "stream",
     "text": [
      "mkdir: ../Explore_HTML: File exists\r\n"
     ]
    }
   ],
   "source": [
    "!mkdir ../Explore_HTML"
   ]
  },
  {
   "cell_type": "code",
   "execution_count": 77,
   "metadata": {},
   "outputs": [],
   "source": [
    "for fi in onlyfiles:\n",
    "    with open(mypath+\"/\"+fi, 'r') as f:\n",
    "        data = f.read()\n",
    "    web_text = markdown2.markdown(data) \n",
    "    with open(\"../Explore_HTML/\"+fi.replace(\"md\",\"html\"), 'w') as f:\n",
    "        f.write(web_text.encode(\"utf-8\"))\n"
   ]
  },
  {
   "cell_type": "markdown",
   "metadata": {},
   "source": [
    "# Do the same with Species files"
   ]
  },
  {
   "cell_type": "code",
   "execution_count": 67,
   "metadata": {},
   "outputs": [],
   "source": [
    "mypath = '../Species files (243)'\n",
    "onlyfiles = [f for f in listdir(mypath) if isfile(join(mypath, f))]"
   ]
  },
  {
   "cell_type": "code",
   "execution_count": 68,
   "metadata": {},
   "outputs": [],
   "source": [
    "!mkdir ../Species_Markdown"
   ]
  },
  {
   "cell_type": "code",
   "execution_count": 69,
   "metadata": {},
   "outputs": [],
   "source": [
    "for f in onlyfiles:\n",
    "    output = \"../Species_Markdown/\" + f.replace(\"docx\",\"md\")\n",
    "    command = \"pandoc --from=DOCX -s '{mypath}/{f}' --to=markdown -o '{output}'\".format(mypath=mypath,\n",
    "                                                                                       output=output,\n",
    "                                                                                      f=f)\n",
    "    os.system(command)\n"
   ]
  },
  {
   "cell_type": "code",
   "execution_count": 79,
   "metadata": {},
   "outputs": [],
   "source": [
    "mypath = '../Species_Markdown'\n",
    "onlyfiles = [f for f in listdir(mypath) if isfile(join(mypath, f))]"
   ]
  },
  {
   "cell_type": "code",
   "execution_count": 72,
   "metadata": {},
   "outputs": [],
   "source": [
    "for fi in onlyfiles:\n",
    "    with open(mypath+\"/\"+fi, 'r') as f:\n",
    "        lines = f.read()\n",
    "    \n",
    "    lines = lines.replace('''>\n",
    "> ''',\"\\n\").replace(\"\\n> \",\"\").replace(\"> \",\"\")\n",
    "    with open(mypath+\"/\"+fi, 'w') as f:\n",
    "        f.write(lines)  \n"
   ]
  },
  {
   "cell_type": "code",
   "execution_count": 78,
   "metadata": {},
   "outputs": [],
   "source": [
    "!mkdir ../Species_HTML"
   ]
  },
  {
   "cell_type": "code",
   "execution_count": 80,
   "metadata": {},
   "outputs": [],
   "source": [
    "for fi in onlyfiles:\n",
    "    with open(mypath+\"/\"+fi, 'r') as f:\n",
    "        data = f.read()\n",
    "    web_text = markdown2.markdown(data) \n",
    "    with open(\"../Species_HTML/\"+fi.replace(\"md\",\"html\"), 'w') as f:\n",
    "        f.write(web_text.encode(\"utf-8\"))\n"
   ]
  },
  {
   "cell_type": "code",
   "execution_count": null,
   "metadata": {},
   "outputs": [],
   "source": []
  }
 ],
 "metadata": {
  "kernelspec": {
   "display_name": "Python 2",
   "language": "python",
   "name": "python2"
  },
  "language_info": {
   "codemirror_mode": {
    "name": "ipython",
    "version": 2
   },
   "file_extension": ".py",
   "mimetype": "text/x-python",
   "name": "python",
   "nbconvert_exporter": "python",
   "pygments_lexer": "ipython2",
   "version": "2.7.16"
  }
 },
 "nbformat": 4,
 "nbformat_minor": 2
}
