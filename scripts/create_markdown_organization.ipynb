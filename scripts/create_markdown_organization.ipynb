{
 "cells": [
  {
   "cell_type": "code",
   "execution_count": 47,
   "metadata": {},
   "outputs": [],
   "source": [
    "from __future__ import print_function\n",
    "import pandas as pd\n",
    "import editdistance\n",
    "from os import listdir\n",
    "from os.path import isfile, join\n",
    "import os\n",
    "import numpy as np\n",
    "import math"
   ]
  },
  {
   "cell_type": "code",
   "execution_count": 2,
   "metadata": {},
   "outputs": [],
   "source": [
    "df = pd.read_excel('Excel Files with organizing data/Listen by book chapter.xlsx')"
   ]
  },
  {
   "cell_type": "code",
   "execution_count": 33,
   "metadata": {},
   "outputs": [
    {
     "name": "stdout",
     "output_type": "stream",
     "text": [
      "Sequence of all items\n",
      "Main Chapter heading\n",
      "Chapter rank\n",
      "Web chapter heading\n",
      "Sequence of secondary chapters\n",
      "Secondary chapter heading (too long to use)\n",
      "Simplified secondary chapter heading\n",
      "Web subchapter heading\n",
      "Species name\n",
      "Species file name\n",
      "Explore numbers in this file\n",
      "Numbered sounds in file\n",
      "Book page\n",
      "Photo #1\n",
      "Caption for Photo #1\n",
      "Photo #2\n",
      "Caption for Photo #2\n",
      "Photo #3\n",
      "Caption for photo #3\n",
      "sound 1\n",
      "sound 2 \n",
      "sound 3\n",
      "sound 4\n",
      "sound 5\n",
      "sound 6\n",
      "sound 7\n",
      "sound 8\n",
      "sound 9\n",
      "sound 10\n",
      "sound 11\n",
      "sound 12\n",
      "sound 13\n",
      "sound 14\n",
      "sound 15\n",
      "sound 16\n",
      "Unnamed: 35\n",
      "Chapter rank.1\n",
      "Chapter name\n",
      " Subchapter rank\n",
      " Subchapter heading\n"
     ]
    }
   ],
   "source": [
    "for col in df.columns: \n",
    "    print(col) "
   ]
  },
  {
   "cell_type": "code",
   "execution_count": 12,
   "metadata": {},
   "outputs": [],
   "source": [
    "def get_actual_image_name(image_file, actual_images):\n",
    "    if image_file in actual_images:\n",
    "        return image_file\n",
    "    else:\n",
    "        distance = 10\n",
    "        best = \"ERROR\"\n",
    "        for im in actual_images:\n",
    "            d = editdistance.eval(image_file, im)\n",
    "            if d < distance:\n",
    "                best = im\n",
    "                distance = d \n",
    "#         print(best, image_file)\n",
    "        return best\n",
    "\n",
    "mypath = \"../photos/\"\n",
    "actual_images = [f for f in listdir(mypath) if isfile(join(mypath, f))]\n",
    "actual_images = map(lambda x: x.replace(\".jpg\",\"\"), actual_images)\n"
   ]
  },
  {
   "cell_type": "code",
   "execution_count": 4,
   "metadata": {},
   "outputs": [
    {
     "name": "stdout",
     "output_type": "stream",
     "text": [
      "Sequence of all items\n",
      "URL for QR codes\n",
      "SpeciesFile\n",
      "Species name\n",
      "Book page\n",
      "Unnamed: 5\n",
      "Corresponding to this URL\n"
     ]
    }
   ],
   "source": [
    "df_pages = pd.read_excel('Excel Files with organizing data/CURIOUS QR codes.xlsx')\n",
    "for col in df_pages.columns: \n",
    "    print(col) "
   ]
  },
  {
   "cell_type": "code",
   "execution_count": null,
   "metadata": {},
   "outputs": [],
   "source": []
  },
  {
   "cell_type": "code",
   "execution_count": null,
   "metadata": {},
   "outputs": [],
   "source": []
  },
  {
   "cell_type": "code",
   "execution_count": 31,
   "metadata": {},
   "outputs": [],
   "source": [
    "pages = {}"
   ]
  },
  {
   "cell_type": "code",
   "execution_count": 87,
   "metadata": {},
   "outputs": [],
   "source": [
    "for index, row in df.iterrows():\n",
    "    t = {}\n",
    "    t['filename'] = row['Species file name']\n",
    "    t['title'] = row['Species name']\n",
    "    t['chapter_name'] = row['Web chapter heading'].replace(\".\",\":\")\n",
    "    t['subchapter_name'] = row['Web subchapter heading'].replace('\"',\"&quot;\").replace('--','&mdash;')\n",
    "    t['from_page'] = row['Book page']\n",
    "#     t['listen_by_number_heading'] = row['']\n",
    "#     t['birds'] = []\n",
    "    t['songs'] = row['''Numbered sounds in file''']\n",
    "    t['pictures'] = []\n",
    "    \n",
    "    d = row\n",
    "    if type(d[\"Photo #1\"]) == unicode:\n",
    "        photo_file = d[\"Photo #1\"].replace(\" \",\"_\").replace(\"'\",\"\")    \n",
    "        photo_file = get_actual_image_name(photo_file, actual_images)\n",
    "        caption = d[\"Caption for Photo #1\"]\n",
    "        t['pictures'].append({'photo_file':photo_file, 'photo_caption':caption})\n",
    "        \n",
    "        if type(d[\"Photo #2\"]) == unicode:\n",
    "            photo_file = d[\"Photo #2\"].replace(\" \",\"_\").replace(\"'\",\"\")    \n",
    "            photo_file = get_actual_image_name(photo_file, actual_images)\n",
    "            caption = d[\"Caption for Photo #2\"]\n",
    "            t['pictures'].append({'photo_file':photo_file, 'photo_caption':caption})\n",
    "            \n",
    "        if type(d[\"Photo #3\"]) == unicode:\n",
    "            photo_file = d[\"Photo #3\"].replace(\" \",\"_\").replace(\"'\",\"\")    \n",
    "            photo_file = get_actual_image_name(photo_file, actual_images)\n",
    "            caption = d[\"Caption for photo #3\"]\n",
    "            t['pictures'].append({'photo_file':photo_file, 'photo_caption':caption})                    \n",
    "    t['explores'] = str(row['Explore numbers in this file'])\n",
    "    if t['explores'] == \"nan\":\n",
    "        t['explores'] = \"\"\n",
    "    pages[row['Sequence of all items']] = t\n",
    "    \n"
   ]
  },
  {
   "cell_type": "code",
   "execution_count": 88,
   "metadata": {},
   "outputs": [],
   "source": [
    "with open(\"yaml/pages.yaml\", 'w') as f:\n",
    "    f.write(yaml.safe_dump(pages, default_flow_style=False))"
   ]
  },
  {
   "cell_type": "code",
   "execution_count": 89,
   "metadata": {},
   "outputs": [],
   "source": [
    "# df_species = pd.read_excel('Excel Files with organizing data/Listen by species.xlsx')\n",
    "# for col in df_species.columns: \n",
    "#     print(col) "
   ]
  },
  {
   "cell_type": "code",
   "execution_count": 90,
   "metadata": {},
   "outputs": [],
   "source": [
    "birds = []\n",
    "\n",
    "for index, row in df_species.iterrows():\n",
    "    t = {}\n",
    "    \n",
    "    t['bird_name'] = row['Species']\n",
    "    t['group'] = row['Group name']\n",
    "    t['family'] = row['Family name']\n",
    "    links = []\n",
    "    \n",
    "    for v in ['link {i}'.format(i=i) for i in range(1,6)]:\n",
    "        x = '0'\n",
    "        if type(row[v]) == unicode:\n",
    "            x = row[v]\n",
    "        elif not math.isnan(float(row[v])):   \n",
    "            x = str(row[v])\n",
    "        if x != '0':\n",
    "            links.append(x)\n",
    "    t['songs'] = links\n",
    "    birds.append(t)\n",
    "    \n"
   ]
  },
  {
   "cell_type": "code",
   "execution_count": 85,
   "metadata": {},
   "outputs": [],
   "source": [
    "# df_species.head()"
   ]
  },
  {
   "cell_type": "code",
   "execution_count": 92,
   "metadata": {
    "scrolled": false
   },
   "outputs": [],
   "source": [
    "with  open(\"yaml/birds.yaml\", 'w') as f:\n",
    "    f.write(yaml.safe_dump(birds, default_flow_style=False))"
   ]
  },
  {
   "cell_type": "code",
   "execution_count": null,
   "metadata": {},
   "outputs": [],
   "source": []
  },
  {
   "cell_type": "code",
   "execution_count": 99,
   "metadata": {},
   "outputs": [
    {
     "name": "stdout",
     "output_type": "stream",
     "text": [
      "Sequence\n",
      "Group name\n",
      "Explore file name\n",
      "Explore name\n",
      "Explore name--do not use\n",
      "Species file\n",
      "Move  this column left when files are all prepared; for now, previous column is a test column\n",
      "Sequence.1\n",
      "Web chapter heading\n",
      "Web subchapter heading\n",
      "page \n",
      "in book\n"
     ]
    }
   ],
   "source": [
    "df_explore = pd.read_excel(('Excel Files with organizing data/Explore.xlsx'))\n",
    "for col in df_explore.columns: \n",
    "    print(col) "
   ]
  },
  {
   "cell_type": "code",
   "execution_count": 100,
   "metadata": {},
   "outputs": [],
   "source": [
    "explore = {}\n",
    "for index, row in df_explore.iterrows():\n",
    "    t = {}\n",
    "    t['a_title'] = row['Explore name']\n",
    "    t['chapter'] = row['Web chapter heading']\n",
    "    t['subchapter'] = row['Web subchapter heading']\n",
    "    t['x_from_page'] = row['''page \n",
    "in book''']\n",
    "    explore[row['Sequence']] = t"
   ]
  },
  {
   "cell_type": "code",
   "execution_count": 101,
   "metadata": {},
   "outputs": [],
   "source": [
    "with open(\"yaml/explore.yaml\", 'w') as f:\n",
    "    f.write(yaml.safe_dump(explore, default_flow_style=False))"
   ]
  },
  {
   "cell_type": "code",
   "execution_count": 103,
   "metadata": {},
   "outputs": [],
   "source": [
    "# explore"
   ]
  },
  {
   "cell_type": "code",
   "execution_count": null,
   "metadata": {},
   "outputs": [],
   "source": []
  },
  {
   "cell_type": "code",
   "execution_count": null,
   "metadata": {},
   "outputs": [],
   "source": []
  },
  {
   "cell_type": "code",
   "execution_count": null,
   "metadata": {},
   "outputs": [],
   "source": []
  },
  {
   "cell_type": "code",
   "execution_count": null,
   "metadata": {},
   "outputs": [],
   "source": []
  },
  {
   "cell_type": "code",
   "execution_count": null,
   "metadata": {},
   "outputs": [],
   "source": []
  },
  {
   "cell_type": "code",
   "execution_count": null,
   "metadata": {},
   "outputs": [],
   "source": []
  }
 ],
 "metadata": {
  "kernelspec": {
   "display_name": "Python 2",
   "language": "python",
   "name": "python2"
  },
  "language_info": {
   "codemirror_mode": {
    "name": "ipython",
    "version": 2
   },
   "file_extension": ".py",
   "mimetype": "text/x-python",
   "name": "python",
   "nbconvert_exporter": "python",
   "pygments_lexer": "ipython2",
   "version": "2.7.16"
  }
 },
 "nbformat": 4,
 "nbformat_minor": 2
}
