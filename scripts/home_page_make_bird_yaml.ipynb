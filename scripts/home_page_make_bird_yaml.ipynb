{
 "cells": [
  {
   "cell_type": "code",
   "execution_count": 1,
   "metadata": {},
   "outputs": [],
   "source": [
    "import yaml"
   ]
  },
  {
   "cell_type": "code",
   "execution_count": 2,
   "metadata": {},
   "outputs": [],
   "source": [
    "t = '''\t\t\t\t<img class=\"tns-lazy-img\" src=\"img/samples/AmRe-LW-AMRE(m)_0234.jpg\" data-src=\"img/samples/AmRe-LW-AMRE(m)_0234.jpg\" alt=\"\" /><i class=\"far fa-play-circle\"></i><a href=\"#\"><span>American redstart</span></a><i class=\"fas fa-info-circle\"></i></li>\n",
    "\t\t\t\t<li>\n",
    "\t\t\t\t<img class=\"tns-lazy-img\" src=\"img/samples/AmRo-MR-AmRobinCalling_1330_Read.jpg\" data-src=\"img/samples/AmRo-MR-AmRobinCalling_1330_Read.jpg\" alt=\"\" /><i class=\"far fa-play-circle\"></i><a href=\"#\"><span>American robin</span></a><i class=\"fas fa-info-circle\"></i></li>\n",
    "\t\t\t\t<li>\n",
    "\t\t\t\t<img class=\"tns-lazy-img\" src=\"img/samples/AmWi-MR-AmWigeonMLanding_4289_Read.jpg\" data-src=\"img/samples/AmWi-MR-AmWigeonMLanding_4289_Read.jpg\" alt=\"\" /><i class=\"far fa-play-circle\"></i><a href=\"#\"><span>American wigeon</span></a><i class=\"fas fa-info-circle\"></i></li>\n",
    "\t\t\t\t<li>\n",
    "\t\t\t\t<img class=\"tns-lazy-img\" src=\"img/samples/AnHu-BbJ-298a-anhu_AZ-15-11-16_0658.jpg\" data-src=\"img/samples/AnHu-BbJ-298a-anhu_AZ-15-11-16_0658.jpg\" alt=\"\" /><i class=\"far fa-play-circle\"></i><a href=\"#\"><span>Anna's hummingbird</span></a><i class=\"fas fa-info-circle\"></i></li>\n",
    "\t\t\t\t<li>\n",
    "\t\t\t\t<img class=\"tns-lazy-img\" src=\"img/samples/BaSp-RR-BachmansSparrow.jpg\" data-src=\"img/samples/BaSp-RR-BachmansSparrow.jpg\" alt=\"\" /><i class=\"far fa-play-circle\"></i><a href=\"#\"><span>Bachman's sparrow</span></a><i class=\"fas fa-info-circle\"></i></li>\n",
    "\t\t\t\t<li>\n",
    "\t\t\t\t<img class=\"tns-lazy-img\" src=\"img/samples/BaOr-MR-BaltOrioleMSing_9805R_Read.jpg\" data-src=\"img/samples/BaOr-MR-BaltOrioleMSing_9805R_Read.jpg\" alt=\"\" /><i class=\"far fa-play-circle\"></i><a href=\"#\"><span>Bachman's sparrow</span></a><i class=\"fas fa-info-circle\"></i></li>\n",
    "\t\t\t\t<li>\n",
    "\t\t\t\t<img class=\"tns-lazy-img\" src=\"img/samples/BeWr-BS-1-Bewick's-Wren_D4_28996.jpg\" data-src=\"img/samples/BeWr-BS-1-Bewick's-Wren_D4_28996.jpg\" alt=\"\" /><a href=\"javascript:play_single_sound('bewicks');\"><i class=\"far fa-play-circle\"></i></a><a href=\"#\"><span>Bewick's wren</span></a><a href=\"#\"><i class=\"fas fa-info-circle\"></i></a></li>\n",
    "\t\t\t\t<li>\n",
    "\t\t\t\t<img class=\"tns-lazy-img\" src=\"img/samples/BrTh-WH-Brown_thrasher_WH_MG_1769.jpg\" data-src=\"img/samples/BrTh-WH-Brown_thrasher_WH_MG_1769.jpg\" alt=\"\" /><i class=\"far fa-play-circle\"></i><a href=\"#\"><span>Brown thrasher</span></a><i class=\"fas fa-info-circle\"></i></li>\n",
    "\t\t\t\t<li>\n",
    "\t\t\t\t<img class=\"tns-lazy-img\" src=\"img/samples/CaGo-MR-CAGOAggression_8680_Read.jpg\" data-src=\"img/samples/CaGo-MR-CAGOAggression_8680_Read.jpg\" alt=\"\" /><i class=\"far fa-play-circle\"></i><a href=\"#\"><span>Canada goose</span></a><i class=\"fas fa-info-circle\"></i></li>\n",
    "\t\t\t\t<li>\n",
    "\t\t\t\t<img class=\"tns-lazy-img\" src=\"img/samples/CaSp-WH-20140531_Cassin's_Sparrow_WH__MG_4681.jpg\" data-src=\"img/samples/CaSp-WH-20140531_Cassin's_Sparrow_WH__MG_4681.jpg\" alt=\"\" /><i class=\"far fa-play-circle\"></i><a href=\"#\"><span>Cassin's sparrow</span></a><i class=\"fas fa-info-circle\"></i></li>'''.split(\"\\n\")"
   ]
  },
  {
   "cell_type": "code",
   "execution_count": 7,
   "metadata": {},
   "outputs": [],
   "source": [
    "birds_homepage = {}\n",
    "\n",
    "for a in t:\n",
    "    a = a.split(\"<span>\")\n",
    "    if len(a)>1:\n",
    "        a = a[1].split(\"</span>\")[0]\n",
    "        birds_homepage[a] = {}\n",
    "        birds_homepage[a]['song']=531\n",
    "        birds_homepage[a]['page']=1\n",
    "        "
   ]
  },
  {
   "cell_type": "code",
   "execution_count": 9,
   "metadata": {},
   "outputs": [],
   "source": [
    "with open(\"yaml/bird_songs_homepage.yaml\", 'w') as f:\n",
    "    f.write(yaml.safe_dump(birds_homepage, default_flow_style=False))\n"
   ]
  },
  {
   "cell_type": "code",
   "execution_count": null,
   "metadata": {},
   "outputs": [],
   "source": []
  }
 ],
 "metadata": {
  "kernelspec": {
   "display_name": "Python 2",
   "language": "python",
   "name": "python2"
  },
  "language_info": {
   "codemirror_mode": {
    "name": "ipython",
    "version": 2
   },
   "file_extension": ".py",
   "mimetype": "text/x-python",
   "name": "python",
   "nbconvert_exporter": "python",
   "pygments_lexer": "ipython2",
   "version": "2.7.16"
  }
 },
 "nbformat": 4,
 "nbformat_minor": 2
}
